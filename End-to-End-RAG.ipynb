{
 "cells": [
  {
   "cell_type": "markdown",
   "id": "69eec15d-9810-453a-81a4-a227feaba5b7",
   "metadata": {},
   "source": [
    "# End-to-End RAG System"
   ]
  },
  {
   "cell_type": "markdown",
   "id": "9d6de599-f2b2-49b8-9641-34abf313464b",
   "metadata": {},
   "source": [
    "**`Retrieval-Augmented Generation (RAG)` helps language models access up-to-date or domain-specific information by combining retrieval with generation. Instead of relying only on what the model was trained on, RAG first retrieves relevant documents from a knowledge base and then uses those to generate more accurate and grounded responses. This makes it especially useful for tasks where correctness and context matter.**"
   ]
  },
  {
   "cell_type": "markdown",
   "id": "4e582f49-a4c4-485e-8680-81d37e43cfe6",
   "metadata": {},
   "source": [
    "# Architecture"
   ]
  },
  {
   "cell_type": "markdown",
   "id": "ca75c6fc-0c8a-4016-a1e7-b749e95bb190",
   "metadata": {},
   "source": [
    "**In this notebook, we build a RAG pipeline based on PDF documents, focusing on the *Ontario Renters' Guide* and *Condominium Regulations*. By the end, the application will be able to answer questions about renting in Ontario while directly citing actual regulations in its responses.**\n",
    "\n",
    "### PDF Loader\n",
    "Loads and extracts text from one or more PDF documents.\n",
    "\n",
    "### PDF Chunker\n",
    "Splits the extracted text into smaller, manageable chunks for better indexing and retrieval.\n",
    "\n",
    "### Embedder\n",
    "Converts each text chunk into a numerical vector using a pre-trained embedding model.\n",
    "\n",
    "### Vector Store\n",
    "Stores the vectors in a searchable index for efficient similarity-based retrieval.\n",
    "\n",
    "### Retrieval\n",
    "Finds the most relevant chunks from the vector store based on a user's query.\n",
    "\n",
    "### Generation\n",
    "Uses a language model to generate a final answer by grounding it in the retrieved chunks.\n"
   ]
  },
  {
   "cell_type": "markdown",
   "id": "3de3dc28-e2c2-4f37-98c1-a81b2d809a82",
   "metadata": {},
   "source": [
    "# Notable Features\n",
    "\n",
    "### Recursive loading of PDF files from disk\n",
    "Automatically scans nested folders to load all PDF files without manual intervention.\n",
    "\n",
    "### Database for tracking PDF files and efficient management\n",
    "Maintains a record of PDFs with versioning and status tracking to avoid redundant processing.\n",
    "\n",
    "### Three ways of chunking: free text, semantics, and hierarchy\n",
    "Offers flexible chunking strategies including naive splitting, semantic similarity, and document structure-aware methods.\n",
    "\n",
    "### Use of metadata in chunks to enhance context retrieval and generation\n",
    "Associates chunks with source, section titles, and page numbers to improve answer grounding.\n",
    "\n",
    "### Database for tracking chunks and metadata\n",
    "Stores chunk data and associated metadata for fast lookup and update.\n",
    "\n",
    "### Two ways of embedding: SentenceTransformer and OpenAI\n",
    "Supports both local and API-based embedding generation depending on resources and preferences.\n",
    "\n",
    "### Vector Store using Qdrant and two ways of context retrieval: KNN and MMR\n",
    "Leverages Qdrant for storage and retrieval using either simple nearest neighbors or diversity-enhanced MMR.\n",
    "\n",
    "### Efficient syncing between PDFs, chunks, and embeddings\n",
    "Keeps track of changes and updates embeddings only when source documents or chunking strategy changes.\n",
    "\n",
    "### Two ways of generation: OpenAI or vLLM deployed model\n",
    "Allows switching between hosted OpenAI models and local inference via vLLM.\n",
    "\n",
    "### Database for tracking chats with ability to resume old chats similar to ChatGPT\n",
    "Stores conversation history with session IDs for persistent, resumable chats.\n",
    "\n",
    "### Context window management by two ways of context shortening\n",
    "clipping and summarization of older chat exchanges: Optimizes prompt size by either truncating or summarizing previous messages.\n"
   ]
  },
  {
   "cell_type": "markdown",
   "id": "1694d78c-4b53-45de-849e-f3b88a69cbf2",
   "metadata": {},
   "source": [
    "# Imports"
   ]
  },
  {
   "cell_type": "code",
   "execution_count": 1,
   "id": "3b2d8720-f908-41b7-b8da-f49063594f8a",
   "metadata": {},
   "outputs": [
    {
     "name": "stderr",
     "output_type": "stream",
     "text": [
      "/home/electron/PycharmProjects/fine_tune_llm/venv/lib/python3.12/site-packages/tqdm/auto.py:21: TqdmWarning: IProgress not found. Please update jupyter and ipywidgets. See https://ipywidgets.readthedocs.io/en/stable/user_install.html\n",
      "  from .autonotebook import tqdm as notebook_tqdm\n"
     ]
    }
   ],
   "source": [
    "import hashlib\n",
    "import logging\n",
    "from pathlib import Path\n",
    "from typing import Dict, List, Optional, Union, Tuple, Literal, Any\n",
    "\n",
    "from pydantic_settings import BaseSettings\n",
    "from pypdf import PdfReader\n",
    "from sqlmodel import Field, Session, SQLModel, create_engine, select, delete\n",
    "import os\n",
    "import json\n",
    "from enum import Enum\n",
    "\n",
    "from openai import OpenAI\n",
    "from pydantic import BaseModel\n",
    "from langchain.text_splitter import RecursiveCharacterTextSplitter\n",
    "from unstructured.partition.pdf import partition_pdf\n",
    "from unstructured.chunking.title import chunk_by_title\n",
    "import time\n",
    "from sqlalchemy import Column, JSON\n",
    "\n",
    "from sentence_transformers import SentenceTransformer\n",
    "\n",
    "from qdrant_client import QdrantClient\n",
    "from qdrant_client.models import (\n",
    "    VectorParams,\n",
    "    Distance,\n",
    "    PointStruct,\n",
    "    Filter,\n",
    "    FieldCondition,\n",
    "    MatchText,\n",
    "    MatchAny,\n",
    ")\n",
    "import torch\n",
    "import numpy as np\n",
    "import random\n",
    "\n",
    "import requests\n",
    "from datetime import datetime\n",
    "\n",
    "import tiktoken\n",
    "from langchain.chat_models import ChatOpenAI\n",
    "from langchain.schema import HumanMessage, SystemMessage, AIMessage, BaseMessage\n",
    "from transformers import pipeline as hf_pipeline"
   ]
  },
  {
   "cell_type": "markdown",
   "id": "a50b7aa3-5170-44ea-9d56-666cdc5be6c2",
   "metadata": {},
   "source": [
    "# Print Versions"
   ]
  },
  {
   "cell_type": "code",
   "execution_count": 2,
   "id": "990fef22-4965-473a-9493-b9384d1fffd1",
   "metadata": {},
   "outputs": [
    {
     "name": "stdout",
     "output_type": "stream",
     "text": [
      "\n",
      "🌱 Welcome to your Environment Info Report! 🌱\n",
      "\n",
      "🐍 Python:       CPython 3.12.7\n",
      "💻 Platform:     Linux 6.11.0-26-generic (x86_64)\n",
      "\n",
      "🚀 CUDA Available: True\n",
      "   • CUDA Version:   12.4\n",
      "   • cuDNN Version:  90100\n",
      "   • GPU Count:      1\n",
      "     - GPU 0:      NVIDIA GeForce RTX 4070 Laptop GPU\n",
      "\n",
      "📦 nvcc: Cuda compilation tools, release 12.1, V12.1.105\n",
      "\n",
      "📊 nvidia-smi info:\n",
      "   NVIDIA GeForce RTX 4070 Laptop GPU, 570.133.07, 8188 MiB\n",
      "\n",
      "📚 Library versions:\n",
      "🔖 torch           version: 2.6.0+cu124\n",
      "🔖 torchvision     version: 0.21.0+cu124\n",
      "🔖 torchaudio      version: 2.6.0+cu124\n",
      "🔖 transformers    version: 4.51.3\n",
      "🔖 accelerate      version: 1.6.0\n",
      "🔖 trl             version: 0.17.0\n",
      "🔖 peft            version: 0.15.2\n",
      "🔖 deepspeed       not installed\n",
      "🔖 bitsandbytes    version: 0.45.5\n",
      "🔖 datasets        version: 3.6.0\n",
      "🔖 evaluate        version: 0.4.3\n",
      "🔖 tokenizers      version: 0.21.1\n",
      "🔖 sentencepiece   version: 0.2.0\n",
      "🔖 huggingface_hub version: 0.31.2\n",
      "🔖 numpy           version: 2.2.5\n",
      "🔖 scipy           version: 1.15.3\n",
      "🔖 pandas          version: 2.2.3\n",
      "🔖 scikit-learn    version: 1.6.1\n",
      "🔖 wandb           version: 0.19.11\n",
      "🔖 tensorboard     not installed\n",
      "🔖 mlflow          not installed\n",
      "🔖 sqlmodel        version: 0.0.24\n",
      "\n",
      "🔧 Conda env: (none)\n",
      "\n",
      "🌐 Environment variables:\n",
      "   - CUDA_HOME       = \n",
      "   - CUDA_PATH       = \n",
      "   - LD_LIBRARY_PATH = /home/electron/PycharmProjects/fine_tune_llm/venv/lib/python3.12/site-packages/cv2/../../lib64:\n",
      "   - HF_HOME         = \n",
      "   - HF_DATASETS_CACHE = \n",
      "\n",
      "✨ All set! Keep growing and training with confidence! ✨\n",
      "\n"
     ]
    }
   ],
   "source": [
    "import sys\n",
    "import platform\n",
    "import os\n",
    "import subprocess\n",
    "\n",
    "\n",
    "def print_env_info():\n",
    "    print(\"\\n🌱 Welcome to your Environment Info Report! 🌱\\n\")\n",
    "\n",
    "    # Python & OS\n",
    "    print(f\"🐍 Python:       {platform.python_implementation()} {platform.python_version()}\")\n",
    "    print(f\"💻 Platform:     {platform.system()} {platform.release()} ({platform.machine()})\\n\")\n",
    "\n",
    "    # CUDA & GPU via PyTorch\n",
    "    try:\n",
    "        import torch\n",
    "        cuda_avail = torch.cuda.is_available()\n",
    "        print(f\"🚀 CUDA Available: {cuda_avail}\")\n",
    "        if cuda_avail:\n",
    "            print(f\"   • CUDA Version:   {torch.version.cuda}\")\n",
    "            print(f\"   • cuDNN Version:  {torch.backends.cudnn.version()}\")\n",
    "            n_gpus = torch.cuda.device_count()\n",
    "            print(f\"   • GPU Count:      {n_gpus}\")\n",
    "            for i in range(n_gpus):\n",
    "                print(f\"     - GPU {i}:      {torch.cuda.get_device_name(i)}\")\n",
    "    except ImportError:\n",
    "        print(\"🚫 PyTorch not installed, skipping CUDA/GPU info\")\n",
    "\n",
    "    # nvcc (if available)\n",
    "    try:\n",
    "        out = subprocess.check_output(['nvcc', '--version'], stderr=subprocess.STDOUT)\n",
    "        release = [l for l in out.decode().splitlines() if \"release\" in l]\n",
    "        print(f\"\\n📦 nvcc: {release[-1].strip()}\")\n",
    "    except Exception:\n",
    "        print(\"\\n📦 nvcc: not found in PATH\")\n",
    "\n",
    "    # nvidia-smi\n",
    "    try:\n",
    "        out = subprocess.check_output([\n",
    "            'nvidia-smi',\n",
    "            '--query-gpu=name,driver_version,memory.total',\n",
    "            '--format=csv,noheader'], stderr=subprocess.DEVNULL\n",
    "        ).decode().strip().splitlines()\n",
    "        print(\"\\n📊 nvidia-smi info:\")\n",
    "        for line in out:\n",
    "            print(\"   \" + line)\n",
    "    except Exception:\n",
    "        print(\"\\n📊 nvidia-smi: not available\")\n",
    "\n",
    "    # Helper to show versions\n",
    "    def show_ver(label, import_name=None):\n",
    "        try:\n",
    "            m = __import__(import_name or label)\n",
    "            v = getattr(m, '__version__', None) or getattr(m, 'VERSION', None) or str(m)\n",
    "            print(f\"🔖 {label:<15} version: {v}\")\n",
    "        except ImportError:\n",
    "            print(f\"🔖 {label:<15} not installed\")\n",
    "\n",
    "    # Popular ML/LLM libraries\n",
    "    print(\"\\n📚 Library versions:\")\n",
    "    libs = [\n",
    "        ('torch',      None),\n",
    "        ('torchvision', None),\n",
    "        ('torchaudio',  None),\n",
    "        ('transformers', None),\n",
    "        ('accelerate',  None),\n",
    "        ('trl',         'trl'),\n",
    "        ('peft',        'peft'),\n",
    "        ('deepspeed',   None),\n",
    "        ('bitsandbytes', None),\n",
    "        ('datasets',    'datasets'),\n",
    "        ('evaluate',    'evaluate'),\n",
    "        ('tokenizers',  None),\n",
    "        ('sentencepiece', None),\n",
    "        ('huggingface_hub', None),\n",
    "        ('numpy',       'numpy'),\n",
    "        ('scipy',       'scipy'),\n",
    "        ('pandas',      'pandas'),\n",
    "        ('scikit-learn','sklearn'),\n",
    "        ('wandb',       'wandb'),\n",
    "        ('tensorboard', 'tensorboard'),\n",
    "        ('mlflow',      'mlflow'),\n",
    "        ('sqlmodel',    'sqlmodel'),\n",
    "    ]\n",
    "    for label, name in libs:\n",
    "        show_ver(label, name)\n",
    "\n",
    "    # Conda env and key env vars\n",
    "    print(\"\\n🔧 Conda env:\", os.getenv('CONDA_DEFAULT_ENV', '(none)'))\n",
    "    important_vars = ['CUDA_HOME', 'CUDA_PATH', 'LD_LIBRARY_PATH', 'HF_HOME', 'HF_DATASETS_CACHE']\n",
    "    print(\"\\n🌐 Environment variables:\")\n",
    "    for var in important_vars:\n",
    "        print(f\"   - {var:<15} = {os.getenv(var, '')}\")\n",
    "\n",
    "    print(\"\\n✨ All set! Keep growing and training with confidence! ✨\\n\")\n",
    "\n",
    "print_env_info()"
   ]
  },
  {
   "cell_type": "markdown",
   "id": "f3411a68-4f7f-47a8-964b-b4ab73430c24",
   "metadata": {},
   "source": [
    "# PDF Loader"
   ]
  },
  {
   "cell_type": "code",
   "execution_count": 3,
   "id": "6c7015a2-3db1-41ff-9fa5-56613b89969c",
   "metadata": {
    "ExecuteTime": {
     "end_time": "2025-05-23T20:30:57.173619Z",
     "start_time": "2025-05-23T20:30:56.993584Z"
    }
   },
   "outputs": [],
   "source": [
    "class PDFLoaderConfig(BaseSettings):\n",
    "    \"\"\"\n",
    "    Configuration for PDFLoader.\n",
    "    \"\"\"\n",
    "    base_dir: Path\n",
    "    db_path: Path = Path(\"pdf_index.db\")\n",
    "\n",
    "\n",
    "class PDFRecord(SQLModel, table=True):\n",
    "    \"\"\"\n",
    "    ORM/Pydantic model for a PDF file record in SQLite.\n",
    "    \"\"\"\n",
    "    __table_args__ = {\"extend_existing\": True}\n",
    "    \n",
    "    id: Optional[int] = Field(default=None, primary_key=True)\n",
    "    path: str = Field(index=True, unique=True, description=\"File path, relative to base_dir\")\n",
    "    hash: str = Field(description=\"SHA256 hash of the file contents\")\n",
    "\n",
    "\n",
    "class PDFLoader:\n",
    "    \"\"\"\n",
    "    Scans a directory recursively for PDF files, computes hashes, and keeps\n",
    "    a local SQLite index in sync.\n",
    "    \"\"\"\n",
    "\n",
    "    def __init__(self, base_dir: Union[str, Path], db_path: Union[str, Path], echo_sql: bool = False):\n",
    "        self.base_dir = Path(base_dir).expanduser().resolve()\n",
    "        self.db_path = Path(db_path).expanduser().resolve()\n",
    "        self.engine = create_engine(f\"sqlite:///{self.db_path}\", echo=echo_sql)\n",
    "        SQLModel.metadata.create_all(self.engine)\n",
    "\n",
    "    def compute_hash(self, pdf_path: Path) -> str:\n",
    "        \"\"\"\n",
    "        Compute SHA256 hash of the given file.\n",
    "        \"\"\"\n",
    "        hasher = hashlib.sha256()\n",
    "        with pdf_path.open(\"rb\") as f:\n",
    "            for chunk in iter(lambda: f.read(8192), b\"\"):\n",
    "                hasher.update(chunk)\n",
    "        digest = hasher.hexdigest()\n",
    "        print(f\"Computed hash for {pdf_path}: {digest}\")\n",
    "        return digest\n",
    "\n",
    "    def list_pdf_files(self) -> List[Path]:\n",
    "        \"\"\"\n",
    "        Recursively list all .pdf files under base_dir.\n",
    "        \"\"\"\n",
    "        files = list(self.base_dir.rglob(\"*.pdf\"))\n",
    "        print(f\"Found {len(files)} PDF files under {self.base_dir}\")\n",
    "        return files\n",
    "\n",
    "    def extract_text(self, pdf_path: Union[str, Path]) -> str:\n",
    "        \"\"\"\n",
    "        Extract and return all the text from a PDF file.\n",
    "        \"\"\"\n",
    "        path = Path(pdf_path)\n",
    "        reader = PdfReader(str(path))\n",
    "        text_chunks = []\n",
    "        for page in reader.pages:\n",
    "            text_chunks.append(page.extract_text() or \"\")\n",
    "        content = \"\\n\".join(text_chunks)\n",
    "        print(f\"Extracted text from {path} ({len(content)} characters)\")\n",
    "        return content\n",
    "\n",
    "    def _load_db_records(self, session: Session) -> Dict[str, PDFRecord]:\n",
    "        \"\"\"\n",
    "        Load all PDFRecord rows from the database into a path->record dict.\n",
    "        \"\"\"\n",
    "        records = session.exec(select(PDFRecord)).all()\n",
    "        return {r.path: r for r in records}\n",
    "\n",
    "    def full_sync(self) -> None:\n",
    "        \"\"\"\n",
    "        Synchronize the on-disk PDFs with the SQLite index. Inserts new files,\n",
    "        updates changed hashes, and removes records for deleted files.\n",
    "        \"\"\"\n",
    "        # 1. Scan disk\n",
    "        pdf_paths = self.list_pdf_files()\n",
    "        # Map relative path -> absolute Path\n",
    "        rel_to_abs: Dict[str, Path] = {\n",
    "            str(p.relative_to(self.base_dir)): p for p in pdf_paths\n",
    "        }\n",
    "        \n",
    "        # 2. Compute disk hashes\n",
    "        disk_hashes: Dict[str, str] = {\n",
    "            rel: self.compute_hash(abs_p) for rel, abs_p in rel_to_abs.items()\n",
    "        }\n",
    "\n",
    "        with Session(self.engine) as session:\n",
    "            db_map = self._load_db_records(session)\n",
    "\n",
    "            # 3. Insert or update\n",
    "            for rel_path, file_hash in disk_hashes.items():\n",
    "                if rel_path in db_map:\n",
    "                    record = db_map[rel_path]\n",
    "                    if record.hash != file_hash:\n",
    "                        print(f\"Updating hash for {rel_path}\")\n",
    "                        record.hash = file_hash\n",
    "                        session.add(record)\n",
    "                    # mark as processed\n",
    "                    del db_map[rel_path]\n",
    "                else:\n",
    "                    print(f\"Inserting new record for {rel_path}\")\n",
    "                    new_record = PDFRecord(path=rel_path, hash=file_hash)\n",
    "                    session.add(new_record)\n",
    "\n",
    "            # 4. Delete records no longer on disk\n",
    "            for missing_path, record in db_map.items():\n",
    "                print(f\"Deleting record for removed file {missing_path}\")\n",
    "                session.delete(record)\n",
    "\n",
    "            session.commit()\n",
    "        print(\"Full sync complete.\")\n",
    "\n",
    "    def get_record(self, rel_path: str) -> Optional[PDFRecord]:\n",
    "        \"\"\"\n",
    "        Retrieve a single PDFRecord by its relative path.\n",
    "        \"\"\"\n",
    "        with Session(self.engine) as session:\n",
    "            return session.get(PDFRecord, rel_path)\n",
    "\n",
    "    def list_records(self) -> List[PDFRecord]:\n",
    "        \"\"\"\n",
    "        Return all indexed PDFRecords.\n",
    "        \"\"\"\n",
    "        with Session(self.engine) as session:\n",
    "            return session.exec(select(PDFRecord)).all()"
   ]
  },
  {
   "cell_type": "code",
   "execution_count": 4,
   "id": "f4196dda-2d16-47d7-a6ad-5142bf89031c",
   "metadata": {
    "ExecuteTime": {
     "end_time": "2025-05-23T20:30:58.168802Z",
     "start_time": "2025-05-23T20:30:58.155778Z"
    }
   },
   "outputs": [],
   "source": [
    "pdf_loader_config = PDFLoaderConfig(base_dir='/home/electron/PycharmProjects/fine_tune_llm/RAG', db_path=\"pdf_index.db\")\n",
    "loader = PDFLoader(pdf_loader_config.base_dir, pdf_loader_config.db_path, echo_sql=False)"
   ]
  },
  {
   "cell_type": "markdown",
   "id": "24af5421-576a-427a-9887-40be0f42a033",
   "metadata": {},
   "source": [
    "## Full sync database with disk"
   ]
  },
  {
   "cell_type": "code",
   "execution_count": 5,
   "id": "9b674af3-5869-4eaf-a088-87dd24fd149b",
   "metadata": {
    "ExecuteTime": {
     "end_time": "2025-05-23T20:23:46.417773Z",
     "start_time": "2025-05-23T20:23:46.409187Z"
    }
   },
   "outputs": [
    {
     "name": "stdout",
     "output_type": "stream",
     "text": [
      "Found 2 PDF files under /home/electron/PycharmProjects/fine_tune_llm/RAG\n",
      "Computed hash for /home/electron/PycharmProjects/fine_tune_llm/RAG/pdfs/Guide_to_RTA_dec2020.pdf: 98fe6fc26347d4e76741c936de274b085de2c8ba47de56a88c0dd415b6232cb9\n",
      "Computed hash for /home/electron/PycharmProjects/fine_tune_llm/RAG/pdfs/RENTING-AN-APARTMENT-GUIDE.pdf: c9f75e084d2e19aff270a7d8a3546859a355c39e89a769a275c1ffdf0d15da9e\n",
      "Inserting new record for pdfs/Guide_to_RTA_dec2020.pdf\n",
      "Inserting new record for pdfs/RENTING-AN-APARTMENT-GUIDE.pdf\n",
      "Full sync complete.\n"
     ]
    }
   ],
   "source": [
    "loader.full_sync()"
   ]
  },
  {
   "cell_type": "markdown",
   "id": "0f3ee761-d285-4c3d-96aa-a296cf57b82b",
   "metadata": {},
   "source": [
    "## Load PDF Content and metadata"
   ]
  },
  {
   "cell_type": "code",
   "execution_count": 6,
   "id": "f06db618-4bf4-45fc-968b-625f2db25ce3",
   "metadata": {
    "ExecuteTime": {
     "end_time": "2025-05-23T20:23:53.514956Z",
     "start_time": "2025-05-23T20:23:53.314941Z"
    }
   },
   "outputs": [
    {
     "name": "stdout",
     "output_type": "stream",
     "text": [
      "1: pdfs/Guide_to_RTA_dec2020.pdf [98fe6fc2...]\n",
      "Extracted text from /home/electron/PycharmProjects/fine_tune_llm/RAG/pdfs/Guide_to_RTA_dec2020.pdf (18758 characters)\n",
      "18758\n",
      "Brochure: A Guide to the Residential Tenancies Act\n",
      "Information in this guide\n",
      "This guide is a summary\n",
      "##################################################\n",
      "2: pdfs/RENTING-AN-APARTMENT-GUIDE.pdf [c9f75e08...]\n",
      "Extracted text from /home/electron/PycharmProjects/fine_tune_llm/RAG/pdfs/RENTING-AN-APARTMENT-GUIDE.pdf (27843 characters)\n",
      "27843\n",
      "1 \n",
      " \n",
      "RENTING AN APARTMENT GUIDE  \n",
      " \n",
      "In Ontario, landlord and tenant rights and obligations are gover\n",
      "##################################################\n"
     ]
    }
   ],
   "source": [
    "pdf_items = []\n",
    "for rec in loader.list_records():\n",
    "    print(f\"{rec.id}: {rec.path} [{rec.hash[:8]}...]\")\n",
    "    pdf_path = pdf_loader_config.base_dir / rec.path  # Path object to the PDF\n",
    "    text = loader.extract_text(pdf_path)  # full text for text/semantic chunkers\n",
    "    pdf_items.append((rec.id, str(pdf_path), text))\n",
    "    print(len(text))\n",
    "    print(text[:100])\n",
    "    print('#' * 50)"
   ]
  },
  {
   "cell_type": "markdown",
   "id": "c8d0786a-13a1-4976-aa4a-e94743d6841b",
   "metadata": {},
   "source": [
    "# Chunker"
   ]
  },
  {
   "cell_type": "code",
   "execution_count": 7,
   "id": "d932ed98-d18d-4df1-9752-58c2b06bd035",
   "metadata": {
    "ExecuteTime": {
     "end_time": "2025-05-23T20:31:05.121315Z",
     "start_time": "2025-05-23T20:31:02.691722Z"
    }
   },
   "outputs": [],
   "source": [
    "class Chunk(BaseModel):\n",
    "    text: str\n",
    "    rec_id: int\n",
    "    filename: str\n",
    "    summary_before: Optional[str] = None\n",
    "    summary_after: Optional[str] = None\n",
    "    keywords: Optional[List[str]] = None\n",
    "\n",
    "\n",
    "class ChunkerConfig(BaseModel):\n",
    "    chunk_size: int = 1000\n",
    "    chunk_overlap: int = 200\n",
    "    semantic_model: str = \"gpt-3.5-turbo\"  # \"gpt-4\"\n",
    "    keywords_model: str = \"gpt-3.5-turbo\"  #\"gpt-4\"\n",
    "    summary_model: str = \"gpt-3.5-turbo\"  #\"gpt-4\"\n",
    "    summary_temperature: float = 0.3\n",
    "    keywords_temperature: float = 0.0\n",
    "\n",
    "    db_url: Path = Path(\"chunks.db\")\n",
    "\n",
    "\n",
    "class ChunkMode(str, Enum):\n",
    "    text = \"text\"\n",
    "    structure = \"structure\"\n",
    "    semantic = \"semantic\"\n",
    "\n",
    "\n",
    "class ChunkRecord(SQLModel, table=True):\n",
    "    \"\"\"\n",
    "    Persists a single chunk + the exact ChunkerConfig that created it,\n",
    "    plus a mode flag so we know whether it was text, struct, or semantic chunked.\n",
    "    \"\"\"\n",
    "    __table_args__ = {\"extend_existing\": True}\n",
    "    \n",
    "    id: Optional[int] = Field(default=None, primary_key=True)\n",
    "\n",
    "    # chunk fields\n",
    "    rec_id: int\n",
    "    filename: str\n",
    "    text: str\n",
    "    summary_before: Optional[str] = None\n",
    "    summary_after: Optional[str] = None\n",
    "    keywords: Optional[List[str]] = Field(sa_column=Column(JSON), default=None)\n",
    "\n",
    "    # metadata\n",
    "    mode: ChunkMode = Field(index=True, description=\"Which chunking strategy created this\")\n",
    "\n",
    "    # config snapshot\n",
    "    chunk_size: Optional[int] = None\n",
    "    chunk_overlap: Optional[int] = None\n",
    "    semantic_model: Optional[str] = None\n",
    "    keywords_model: Optional[str] = None\n",
    "    summary_model: Optional[str] = None\n",
    "    summary_temperature: Optional[float] = None\n",
    "    keywords_temperature: Optional[float] = None\n",
    "\n",
    "\n",
    "class Chunker:\n",
    "    \"\"\"\n",
    "    Provides three PDF chunking strategies for a RAG pipeline:\n",
    "      1. Free-text chunking (fixed size + overlap)\n",
    "      2. Hierarchical chunking (by document structure)\n",
    "      3. Semantic chunking (via LLM)\n",
    "    Also extracts metadata: filename, neighbor summaries, keywords.\n",
    "    \"\"\"\n",
    "\n",
    "    def __init__(self, config: ChunkerConfig = ChunkerConfig(), openai_api_key: Optional[str] = None):\n",
    "        self.config = config\n",
    "        self.openai_client = OpenAI(api_key=openai_api_key)\n",
    "\n",
    "        db_path = Path(self.config.db_url).expanduser().resolve()\n",
    "        self._engine = create_engine(f\"sqlite:///{db_path}\", echo=False, future=True)\n",
    "        SQLModel.metadata.create_all(self._engine)\n",
    "\n",
    "    def chunk_by_text(self, pdfs: List[Tuple[int, str, str]], chunk_size: Optional[int] = None,\n",
    "                      chunk_overlap: Optional[int] = None, ) -> List[Chunk]:\n",
    "        size = chunk_size or self.config.chunk_size\n",
    "        overlap = chunk_overlap or self.config.chunk_overlap\n",
    "        try:\n",
    "            splitter = RecursiveCharacterTextSplitter(chunk_size=size, chunk_overlap=overlap)\n",
    "            chunks: List[Chunk] = []\n",
    "            for rec_id, filename, text in pdfs:\n",
    "                pieces = splitter.split_text(text)\n",
    "                for piece in pieces:\n",
    "                    chunk = Chunk(text=piece, rec_id=rec_id, filename=filename)\n",
    "                    chunk.keywords = self._extract_keywords(piece)\n",
    "                    chunks.append(chunk)\n",
    "            self._add_neighbor_summaries(chunks)\n",
    "            return chunks\n",
    "        except Exception:\n",
    "            print(\"Failed free-text chunking\")\n",
    "            return []\n",
    "\n",
    "    def chunk_by_structure(self, pdfs: List[Tuple[int, str, str]]) -> List[Chunk]:\n",
    "        try:\n",
    "            chunks: List[Chunk] = []\n",
    "            for rec_id, filename, _ in pdfs:\n",
    "                elements = partition_pdf(filename=filename)\n",
    "                chunks_per_file = chunk_by_title(elements)\n",
    "                for cpf in chunks_per_file:\n",
    "                    chunk = Chunk(text=str(cpf).strip(), rec_id=rec_id, filename=filename)\n",
    "                    chunk.keywords = self._extract_keywords(chunk.text)\n",
    "                    chunks.append(chunk)\n",
    "            self._add_neighbor_summaries(chunks)\n",
    "            return chunks\n",
    "        except Exception:\n",
    "            print(\"Failed structural chunking\")\n",
    "            return []\n",
    "\n",
    "    def chunk_semantic(self, pdfs: List[Tuple[int, str, str]]) -> List[Chunk]:\n",
    "        try:\n",
    "            chunks: List[Chunk] = []\n",
    "            for rec_id, filename, text in pdfs:\n",
    "                prompt = (\n",
    "                    \"Chunk the following text into semantically coherent sections.\\n\"\n",
    "                    \"Return only a plaintext machine-readable text without any '\\n' or special formatting character in your response \"\n",
    "                    \"such that it can be directly loaded into a JSON list of strings, each string being one chunk, by simply calling json.loads()\\n\"\n",
    "                    \"Make sure that your response is only a plaintext format json loadable list of chunks in string format and contains nothing else.\\n\"\n",
    "                    f\"Text:\\n'''{text}'''\"\n",
    "                )\n",
    "                resp = self.openai_client.chat.completions.create(\n",
    "                    model=self.config.semantic_model,\n",
    "                    messages=[{\"role\": \"user\", \"content\": prompt}],\n",
    "                    temperature=0.0,\n",
    "                )\n",
    "                time.sleep(1)\n",
    "                content = resp.choices[0].message.content\n",
    "                # Wrap the end of reply in case max token size is reached.\n",
    "                if not content.endswith('\"]'):\n",
    "                    content += '\"]'\n",
    "                items = json.loads(content)\n",
    "                for piece in items:\n",
    "                    chunk = Chunk(text=piece, rec_id=rec_id, filename=filename)\n",
    "                    chunk.keywords = self._extract_keywords(piece)\n",
    "                    chunks.append(chunk)\n",
    "            self._add_neighbor_summaries(chunks)\n",
    "            return chunks\n",
    "        except Exception:\n",
    "            print(\"Failed semantic chunking\")\n",
    "            print(content)\n",
    "            return []\n",
    "\n",
    "    def store_chunks(self, chunks: List[Chunk], mode: ChunkMode) -> None:\n",
    "        \"\"\"\n",
    "        Persist a list of Chunk objects under a given mode (text/struct/semantic),\n",
    "        stamping each record with the full config snapshot.\n",
    "        \"\"\"\n",
    "        records = []\n",
    "        for c in chunks:\n",
    "            if mode == ChunkMode.text:\n",
    "                kwargs = {\n",
    "                    'chunk_size': self.config.chunk_size,\n",
    "                    'chunk_overlap': self.config.chunk_overlap,\n",
    "                }\n",
    "            elif mode == ChunkMode.semantic:\n",
    "                kwargs = {\n",
    "                    'semantic_model': self.config.semantic_model,\n",
    "                }\n",
    "            else:\n",
    "                kwargs = {}\n",
    "            records.append(\n",
    "                ChunkRecord(\n",
    "                    rec_id=c.rec_id,\n",
    "                    filename=c.filename,\n",
    "                    text=c.text,\n",
    "                    summary_before=c.summary_before,\n",
    "                    summary_after=c.summary_after,\n",
    "                    keywords=c.keywords,\n",
    "                    mode=mode,\n",
    "                    # snapshot of config\n",
    "                    keywords_model=self.config.keywords_model,\n",
    "                    summary_model=self.config.summary_model,\n",
    "                    summary_temperature=self.config.summary_temperature,\n",
    "                    keywords_temperature=self.config.keywords_temperature,\n",
    "                    **kwargs\n",
    "                )\n",
    "            )\n",
    "        with Session(self._engine) as session:\n",
    "            session.add_all(records)\n",
    "            session.commit()\n",
    "\n",
    "    def retrieve_chunks(self) -> Dict[str, List[Chunk]]:\n",
    "        \"\"\"\n",
    "        Load all ChunkRecords from the DB, reconstruct three lists\n",
    "        in the order (text_chunks, struct_chunks, semantic_chunks).\n",
    "        \"\"\"\n",
    "        text_chunks: List[Chunk] = []\n",
    "        struct_chunks: List[Chunk] = []\n",
    "        semantic_chunks: List[Chunk] = []\n",
    "\n",
    "        stmt = select(ChunkRecord)\n",
    "        with Session(self._engine) as session:\n",
    "            for rec in session.exec(stmt):\n",
    "                c = Chunk(\n",
    "                    text=rec.text,\n",
    "                    rec_id=rec.rec_id,\n",
    "                    filename=rec.filename,\n",
    "                    summary_before=rec.summary_before,\n",
    "                    summary_after=rec.summary_after,\n",
    "                    keywords=rec.keywords,\n",
    "                )\n",
    "                if rec.mode == ChunkMode.text:\n",
    "                    text_chunks.append(c)\n",
    "                elif rec.mode == ChunkMode.structure:\n",
    "                    struct_chunks.append(c)\n",
    "                elif rec.mode == ChunkMode.semantic:\n",
    "                    semantic_chunks.append(c)\n",
    "\n",
    "        return {ChunkMode.text: text_chunks, ChunkMode.structure: struct_chunks, ChunkMode.semantic: semantic_chunks}\n",
    "\n",
    "    def sync_chunks(self, pdfs: List[Tuple[int, str, str]]) -> None:\n",
    "        \"\"\"\n",
    "        Ensure the chunk DB exactly matches the given PDFs:\n",
    "          - Remove all chunks for any rec_id no longer present.\n",
    "          - For any new rec_id, run all three chunkers and store their chunks.\n",
    "        :param pdfs: list of (rec_id, path, hash) tuples representing the source‐of‐truth PDFs\n",
    "        \"\"\"\n",
    "        # 1) Build sets of PDF IDs\n",
    "        incoming_ids = {rid for rid, _, _ in pdfs}\n",
    "\n",
    "        # 2) Find which IDs are already in the DB\n",
    "        with Session(self._engine) as session:\n",
    "            stmt = select(ChunkRecord.rec_id).distinct()\n",
    "            existing_ids = {row for row in session.exec(stmt)}\n",
    "\n",
    "            # 3) Delete orphaned chunks\n",
    "            to_delete = existing_ids - incoming_ids\n",
    "            if to_delete:\n",
    "                print('Deleting items:', to_delete)\n",
    "                session.exec(\n",
    "                    delete(ChunkRecord)\n",
    "                    .where(ChunkRecord.rec_id.in_(to_delete))\n",
    "                )\n",
    "            session.commit()\n",
    "\n",
    "        # 4) Chunk & store for any new PDFs\n",
    "        to_add = incoming_ids - existing_ids\n",
    "        if not to_add:\n",
    "            print('Nothing to add')\n",
    "            return\n",
    "\n",
    "        # only keep the new‐PDF tuples\n",
    "        new_pdfs = [(rid, path, hsh) for rid, path, hsh in pdfs if rid in to_add]\n",
    "\n",
    "        # run each strategy and persist\n",
    "        text_chunks = self.chunk_by_text(new_pdfs)\n",
    "        struct_chunks = self.chunk_by_structure(new_pdfs)\n",
    "        semantic_chunks = self.chunk_semantic(new_pdfs)\n",
    "\n",
    "        self.store_chunks(text_chunks, mode=ChunkMode.text)\n",
    "        self.store_chunks(struct_chunks, mode=ChunkMode.structure)\n",
    "        self.store_chunks(semantic_chunks, mode=ChunkMode.semantic)\n",
    "\n",
    "    def _extract_keywords(self, text: str) -> List[str]:\n",
    "        try:\n",
    "            prompt = (\n",
    "                \"Extract up to 3 of the most important, specific keywords or phrases from the text below. \"\n",
    "                \"If 3 important keywords do not exist, then return fewer keywords. Prioritize the quality and performance of keywords over the number of them. \"\n",
    "                \"Return a comma separated list of keywords without saying anything else. Do not use any special character other than comma.\\n\\n\"\n",
    "                f\"Text:\\n'''{text}'''\"\n",
    "            )\n",
    "            resp = self.openai_client.chat.completions.create(\n",
    "                model=self.config.keywords_model,\n",
    "                messages=[{\"role\": \"user\", \"content\": prompt}],\n",
    "                temperature=self.config.keywords_temperature,\n",
    "            )\n",
    "            time.sleep(1)\n",
    "            return list(map(lambda x: x.strip(), resp.choices[0].message.content.split(',')))\n",
    "        except Exception:\n",
    "            print(\"Keyword extraction failed\")\n",
    "            return []\n",
    "\n",
    "    def _generate_summary(self, text: str) -> str:\n",
    "        try:\n",
    "            prompt = (\n",
    "                \"Write a short, concise (one-sentence) summary of the following text. In your response, only provide the summary and say nothing else.\\n\\n\"\n",
    "                f\"Text:\\n'''{text}'''\"\n",
    "            )\n",
    "            resp = self.openai_client.chat.completions.create(\n",
    "                model=self.config.summary_model,\n",
    "                messages=[{\"role\": \"user\", \"content\": prompt}],\n",
    "                temperature=self.config.summary_temperature,\n",
    "            )\n",
    "            time.sleep(1)\n",
    "            return resp.choices[0].message.content.strip()\n",
    "        except Exception:\n",
    "            print(\"Summary generation failed\")\n",
    "            return \"\"\n",
    "\n",
    "    def _add_neighbor_summaries(self, chunks: List[Chunk]) -> None:\n",
    "        # Pre-compute summaries for each chunk\n",
    "        summaries = [self._generate_summary(c.text) for c in chunks]\n",
    "        for i, chunk in enumerate(chunks):\n",
    "            if i > 0:\n",
    "                chunk.summary_before = summaries[i - 1]\n",
    "            if i < len(chunks) - 1:\n",
    "                chunk.summary_after = summaries[i + 1]"
   ]
  },
  {
   "cell_type": "code",
   "execution_count": 8,
   "id": "9d0fbbeb-f7bd-4ec0-9515-33b2fb171358",
   "metadata": {
    "ExecuteTime": {
     "end_time": "2025-05-23T20:31:07.035245Z",
     "start_time": "2025-05-23T20:31:07.011678Z"
    }
   },
   "outputs": [],
   "source": [
    "api_key = \"INSERT-YOUR-OPENAI-TOKEN-HERE\"\n",
    "chunker_config = ChunkerConfig(chunk_size=1000, chunk_overlap=200)\n",
    "chunker = Chunker(config=chunker_config, openai_api_key=api_key)"
   ]
  },
  {
   "cell_type": "markdown",
   "id": "af3dc426-b59b-4af5-b6be-ba15cd8e5afe",
   "metadata": {},
   "source": [
    "## Chunk PDFs and save to database"
   ]
  },
  {
   "cell_type": "code",
   "execution_count": 10,
   "id": "0eb4aa03-0ede-4cc9-999a-66226c95da1b",
   "metadata": {},
   "outputs": [
    {
     "name": "stdout",
     "output_type": "stream",
     "text": [
      "Chunking by ChunkMode.text\n",
      "Finished chunking in 189.72 seconds and yielded 59 chunks \n",
      "\n",
      "Sample chunk:\n",
      "text=\"homes, and sites in a mobile home park or land lease community.\\nMany of the rules about rent do not apply to:\\nnon-profit and public housing\\nuniversity and college residences\\nBut these units are still covered by most of the other rules in the Act about such things as maintenance and the\\nreasons for eviction.\\nThe Act does not apply if the tenant must share a kitchen or bathroom with the landlord.\\nAbout the LTB\\nThe Landlord and Tenant Board resolves disputes between tenants and landlords. It is similar to a court.\\nEither a landlord or a tenant can apply to the LTB. Their disputes can be worked out through mediation or\\nadjudication.\\nIn mediation, an LTB mediator helps a landlord and tenant reach an agreement they are both satisfied with.\\nIn adjudication, a hearing is held. After the hearing, an LTB member makes a decision based on the evidence\\nthat the landlord and tenant present, and then issues an order. An order is the final, written version of the LTB\\nmember's decision.\" rec_id=1 filename='/home/electron/PycharmProjects/fine_tune_llm/RAG/pdfs/Guide_to_RTA_dec2020.pdf' summary_before=\"Summary: The brochure provides a summary of Ontario's Residential Tenancies Act, outlining the rights and responsibilities of landlords and tenants in rental properties.\" summary_after='The Landlord and Tenant Board issues final written orders and provides information on rights and responsibilities under the Act, including requirements for tenancy agreements.' keywords=['homes', 'sites', 'Landlord and Tenant Board']\n",
      "\n",
      "\n",
      "##################################################\n",
      "\n",
      "\n",
      "Chunking by ChunkMode.structure\n",
      "Finished chunking in 434.30 seconds and yielded 133 chunks \n",
      "\n",
      "Sample chunk:\n",
      "text=\"Information in this guide\\n\\nThis guide is a summary of Ontario's Residential Tenancies Act (the Act) which came into effect on January 31, 2007. The Act sets out the rights and responsibilities of landlords and tenants who rent residential properties.\\n\\nThis guide is not a complete summary of the law and it is not legal advice. If you require more detailed information about the law, contact the Landlord and Tenant Board (LTB).\\n\\nWho is covered by this Act?\" rec_id=1 filename='/home/electron/PycharmProjects/fine_tune_llm/RAG/pdfs/Guide_to_RTA_dec2020.pdf' summary_before='Summary: Informational brochure providing guidance on the Residential Tenancies Act.' summary_after='The Act covers landlords and tenants of most rental units, including apartments, houses, rooms in rooming houses, care homes, retirement homes, and mobile home parks.' keywords=['Ontario', 'Residential Tenancies Act', 'landlords']\n",
      "\n",
      "\n",
      "##################################################\n",
      "\n",
      "\n",
      "Chunking by ChunkMode.semantic\n",
      "Finished chunking in 299.71 seconds and yielded 66 chunks \n",
      "\n",
      "Sample chunk:\n",
      "text='Who is covered by this Act? Landlords and tenants of most rental units are covered by most of the rules in the Act. A rental unit can be an apartment, a house, or a room in a rooming or boarding house. The Act also applies to care homes, retirement homes, and sites in a mobile home park or land lease community. Many of the rules about rent do not apply to: non-profit and public housing university and college residences But these units are still covered by most of the other rules in the Act about such things as maintenance and the reasons for eviction. The Act does not apply if the tenant must share a kitchen or bathroom with the landlord.' rec_id=1 filename='/home/electron/PycharmProjects/fine_tune_llm/RAG/pdfs/Guide_to_RTA_dec2020.pdf' summary_before=\"Summary: The brochure provides a summary of Ontario's Residential Tenancies Act, outlining the rights and responsibilities of landlords and tenants.\" summary_after='The Landlord and Tenant Board resolves disputes between tenants and landlords through mediation or adjudication.' keywords=['Landlords', 'tenants', 'rental units']\n",
      "\n",
      "\n",
      "##################################################\n",
      "\n",
      "\n"
     ]
    }
   ],
   "source": [
    "chunk_methods = [ChunkMode.text, ChunkMode.structure, ChunkMode.semantic]\n",
    "methods_chunks_mapper = {k: None for k in chunk_methods}\n",
    "for chunk_name, chunk_func in zip(chunk_methods,\n",
    "                                  [chunker.chunk_by_text, chunker.chunk_by_structure, chunker.chunk_semantic]):\n",
    "    print(f'Chunking by {chunk_name}')\n",
    "    start_time = time.time()\n",
    "    method_chunks = chunk_func(pdf_items)\n",
    "    end_time = time.time()\n",
    "    methods_chunks_mapper[chunk_name] = method_chunks\n",
    "    chunker.store_chunks(method_chunks, mode=chunk_name)\n",
    "    print(f'Finished chunking in {end_time - start_time:.2f} seconds and yielded {len(method_chunks)} chunks \\n')\n",
    "    print('Sample chunk:')\n",
    "    print(method_chunks[1])\n",
    "    print('\\n')\n",
    "    print('#' * 50)\n",
    "    print('\\n')"
   ]
  },
  {
   "cell_type": "markdown",
   "id": "119170cd-c13d-4cb9-9b79-039621fa9956",
   "metadata": {},
   "source": [
    "## Load chunks and metadata from database"
   ]
  },
  {
   "cell_type": "code",
   "execution_count": 11,
   "id": "1252f338-e678-494d-a9f8-263fe33a61b0",
   "metadata": {
    "ExecuteTime": {
     "end_time": "2025-05-23T20:31:15.731475Z",
     "start_time": "2025-05-23T20:31:15.719249Z"
    }
   },
   "outputs": [
    {
     "name": "stdout",
     "output_type": "stream",
     "text": [
      "3 59 133 66\n"
     ]
    }
   ],
   "source": [
    "chunks = chunker.retrieve_chunks()\n",
    "print(len(chunks), len(chunks[ChunkMode.text]), len(chunks[ChunkMode.structure]), len(chunks[ChunkMode.semantic]))"
   ]
  },
  {
   "cell_type": "markdown",
   "id": "b7b13c88-cdb9-48f9-ac7b-8291ce551c21",
   "metadata": {},
   "source": [
    "## Full sync chunk database with PDFs"
   ]
  },
  {
   "cell_type": "code",
   "execution_count": 12,
   "id": "4708f41feb08d0f9",
   "metadata": {
    "ExecuteTime": {
     "end_time": "2025-05-23T20:24:21.516503Z",
     "start_time": "2025-05-23T20:24:21.511730Z"
    }
   },
   "outputs": [
    {
     "name": "stdout",
     "output_type": "stream",
     "text": [
      "Nothing to add\n"
     ]
    }
   ],
   "source": [
    "# In case pdf files have changed\n",
    "\n",
    "chunker.sync_chunks(pdf_items)"
   ]
  },
  {
   "cell_type": "markdown",
   "id": "393dc457-df95-455d-8de8-00ce6b519186",
   "metadata": {},
   "source": [
    "# Embedder"
   ]
  },
  {
   "cell_type": "code",
   "execution_count": 13,
   "id": "bbb25cf24a6b6af",
   "metadata": {
    "ExecuteTime": {
     "end_time": "2025-05-23T20:31:19.410568Z",
     "start_time": "2025-05-23T20:31:18.485213Z"
    }
   },
   "outputs": [],
   "source": [
    "class Embedder:\n",
    "    \"\"\"\n",
    "    Produces embeddings for a list of Chunk objects, using either\n",
    "    OpenAI's embeddings API or a local sentence-transformers model.\n",
    "    \"\"\"\n",
    "\n",
    "    def __init__(self, backend: Literal[\"openai\", \"sentence_transformers\"] = \"openai\",\n",
    "                 openai_model: str = \"text-embedding-ada-002\", sentence_model: str = \"all-MiniLM-L6-v2\",\n",
    "                 openai_api_key: Optional[str] = None, batch_size: int = 512):\n",
    "        self.backend = backend\n",
    "        self.openai_model = openai_model\n",
    "        self.sentence_model = sentence_model\n",
    "        self.openai_api_key = openai_api_key or os.getenv(\"OPENAI_API_KEY\")\n",
    "        self.batch_size = batch_size\n",
    "\n",
    "        if self.backend == \"openai\":\n",
    "            if not self.openai_api_key:\n",
    "                raise ValueError(\n",
    "                    \"No OpenAI API key provided; set it via argument or OPENAI_API_KEY environment variable\"\n",
    "                )\n",
    "            self._openai_client = OpenAI(api_key=self.openai_api_key)\n",
    "\n",
    "        elif self.backend == \"sentence_transformers\":\n",
    "            self._encoding_model = SentenceTransformer(self.sentence_model)\n",
    "\n",
    "        else:\n",
    "            raise ValueError(f\"Unsupported backend: {self.backend}\")\n",
    "\n",
    "    def embed_single_text(self, text: str) -> List[float]:\n",
    "        \"\"\"\n",
    "        Embeds a single string.\n",
    "        \"\"\"\n",
    "        if self.backend == \"openai\":\n",
    "            return self._embed_openai([text])[0]\n",
    "        else:\n",
    "            return self._embed_sentence_transformers([text])[0]\n",
    "\n",
    "    def embed(self, chunks: Dict[ChunkMode, Chunk]) -> List[List[float]]:\n",
    "        \"\"\"\n",
    "        Embed a list of Chunk objects in order, returning a parallel list\n",
    "        of embedding vectors.\n",
    "        \"\"\"\n",
    "        texts = [chunk.text for chunk in chunks]\n",
    "        if self.backend == \"openai\":\n",
    "            return self._embed_openai(texts)\n",
    "        else:\n",
    "            return self._embed_sentence_transformers(texts)\n",
    "\n",
    "    def _embed_openai(self, texts: List[str]) -> List[List[float]]:\n",
    "        \"\"\"\n",
    "        Batch-call OpenAI’s embeddings API and return a list of vectors.\n",
    "        \"\"\"\n",
    "        embeddings: List[List[float]] = []\n",
    "        for i in range(0, len(texts), self.batch_size):\n",
    "            batch = texts[i: i + self.batch_size]\n",
    "            response = self._openai_client.embeddings.create(model=self.openai_model, input=batch)\n",
    "            embeddings.extend(item[\"embedding\"] for item in response[\"data\"])\n",
    "        return embeddings\n",
    "\n",
    "    def _embed_sentence_transformers(self, texts: List[str]) -> List[List[float]]:\n",
    "        \"\"\"\n",
    "        Use a SentenceTransformer to embed texts in a single call.\n",
    "        \"\"\"\n",
    "        embs = self._encoding_model.encode(\n",
    "            texts,\n",
    "            batch_size=self.batch_size,\n",
    "            show_progress_bar=False,\n",
    "            convert_to_numpy=False,\n",
    "        )\n",
    "        return [list(vec) for vec in embs]\n"
   ]
  },
  {
   "cell_type": "code",
   "execution_count": 14,
   "id": "7a0ee53487dfed9a",
   "metadata": {
    "ExecuteTime": {
     "end_time": "2025-05-23T20:31:21.504114Z",
     "start_time": "2025-05-23T20:31:19.864300Z"
    }
   },
   "outputs": [],
   "source": [
    "embedder = Embedder(backend='sentence_transformers')"
   ]
  },
  {
   "cell_type": "markdown",
   "id": "786648f3-708b-490d-ae1c-a8314c4931e6",
   "metadata": {},
   "source": [
    "## Embed chunks"
   ]
  },
  {
   "cell_type": "code",
   "execution_count": 15,
   "id": "2a311cd30f388454",
   "metadata": {
    "ExecuteTime": {
     "end_time": "2025-05-23T00:36:32.019307Z",
     "start_time": "2025-05-23T00:36:31.796016Z"
    }
   },
   "outputs": [],
   "source": [
    "embeddings = {}\n",
    "for mode, chunk_pieces in chunks.items():\n",
    "    embeddings[mode] = embedder.embed(chunk_pieces)"
   ]
  },
  {
   "cell_type": "code",
   "execution_count": 16,
   "id": "964fa5085c653398",
   "metadata": {
    "ExecuteTime": {
     "end_time": "2025-05-23T02:59:04.458005Z",
     "start_time": "2025-05-23T02:59:04.455257Z"
    }
   },
   "outputs": [
    {
     "name": "stdout",
     "output_type": "stream",
     "text": [
      "59 133 66\n"
     ]
    }
   ],
   "source": [
    "print(len(embeddings[ChunkMode.text]), len(embeddings[ChunkMode.structure]), len(embeddings[ChunkMode.semantic]))"
   ]
  },
  {
   "cell_type": "code",
   "execution_count": 17,
   "id": "366d1a08-d179-4944-a416-f1395ce9c4a1",
   "metadata": {},
   "outputs": [
    {
     "name": "stdout",
     "output_type": "stream",
     "text": [
      "384 384 384\n"
     ]
    }
   ],
   "source": [
    "print(len(embeddings[ChunkMode.text][0]), len(embeddings[ChunkMode.structure][0]), len(embeddings[ChunkMode.semantic][0]))"
   ]
  },
  {
   "cell_type": "markdown",
   "id": "04487527-9cee-4379-b7ae-5d14c2def1b3",
   "metadata": {},
   "source": [
    "# Vector database (embeddings + metadata)"
   ]
  },
  {
   "cell_type": "code",
   "execution_count": 18,
   "id": "761ad3b84b1350c4",
   "metadata": {
    "ExecuteTime": {
     "end_time": "2025-05-23T21:12:36.807801Z",
     "start_time": "2025-05-23T21:12:36.790523Z"
    }
   },
   "outputs": [],
   "source": [
    "class VectorStore:\n",
    "    \"\"\"\n",
    "    A local, persistent vector store backed by Qdrant, capable of storing embeddings and\n",
    "    rich metadata, and fully synchronizing (upsert + delete) based on incoming chunks.\n",
    "    \"\"\"\n",
    "\n",
    "    def __init__(self, *, path: str = \"qdrant_db\", collection_name: str = \"chunks\", embedding_dim: int = 384,\n",
    "                 distance: Distance = Distance.COSINE, embedder: Embedder):\n",
    "        # Ensure storage directory exists\n",
    "        os.makedirs(path, exist_ok=True)\n",
    "\n",
    "        # Connect in local mode (\":memory:\" or disk) :contentReference[oaicite:1]{index=1}\n",
    "        self.client = QdrantClient(path=path)\n",
    "        self.collection_name = collection_name\n",
    "        self.embedding_dim = embedding_dim\n",
    "\n",
    "        # Create collection if it does not already exist\n",
    "        existing = {col.name for col in self.client.get_collections().collections}\n",
    "        if collection_name not in existing:\n",
    "            self.client.create_collection(\n",
    "                collection_name=collection_name,\n",
    "                vectors_config=VectorParams(size=embedding_dim, distance=distance),\n",
    "            )\n",
    "\n",
    "        self.embedder = embedder\n",
    "\n",
    "    def _get_point_id(self, chunk: Chunk) -> str:\n",
    "        \"\"\"\n",
    "        Create a stable, deterministic ID for each chunk by hashing its rec_id,\n",
    "        filename, and text content.\n",
    "        \"\"\"\n",
    "        digest = hashlib.md5(\n",
    "            f\"{chunk.rec_id}-{chunk.filename}-{chunk.text}\".encode(\"utf-8\")\n",
    "        ).hexdigest()\n",
    "        return digest\n",
    "\n",
    "    def sync_embeddings(self, chunks: List[Chunk], embeddings: List[List[float]]) -> None:\n",
    "        \"\"\"\n",
    "        Fully synchronize the vector store:\n",
    "          1. Delete all points whose rec_id is *not* in the provided chunks.\n",
    "          2. Upsert all provided chunks (insert new and overwrite existing).\n",
    "        \"\"\"\n",
    "        if len(chunks) != len(embeddings):\n",
    "            raise ValueError(\n",
    "                \"Number of chunks and embeddings must match.\"\n",
    "            )\n",
    "\n",
    "        # 1. Delete stale points by rec_id\n",
    "        rec_ids = {chunk.rec_id for chunk in chunks}\n",
    "        delete_filter = Filter(\n",
    "            must_not=[\n",
    "                FieldCondition(\n",
    "                    key=\"rec_id\",\n",
    "                    match=MatchAny(any=list(rec_ids)),\n",
    "                )\n",
    "            ]\n",
    "        )\n",
    "        self.client.delete(\n",
    "            collection_name=self.collection_name,\n",
    "            points_selector=delete_filter,\n",
    "            wait=True,\n",
    "        )\n",
    "\n",
    "        # 2. Prepare upsert batch\n",
    "        points = []\n",
    "        for chunk, vector in zip(chunks, embeddings):\n",
    "            point_id = self._get_point_id(chunk)\n",
    "            payload = {\n",
    "                \"text\": chunk.text,\n",
    "                \"rec_id\": chunk.rec_id,\n",
    "                \"filename\": chunk.filename,\n",
    "                # These may be None; Qdrant will store them as null\n",
    "                \"summary_before\": chunk.summary_before,\n",
    "                \"summary_after\": chunk.summary_after,\n",
    "                \"keywords\": chunk.keywords,\n",
    "            }\n",
    "            points.append(\n",
    "                PointStruct(id=point_id, vector=vector, payload=payload)\n",
    "            )\n",
    "\n",
    "        # Upsert inserts new and replaces existing points by ID\n",
    "        self.client.upsert(\n",
    "            collection_name=self.collection_name,\n",
    "            points=points,\n",
    "            wait=True,\n",
    "        )\n",
    "\n",
    "    def load_all_embeddings(self) -> List:\n",
    "        \"\"\"\n",
    "        Load all embeddings from Qdrant database\n",
    "        \"\"\"\n",
    "        all_embeddings = []\n",
    "        offset = None\n",
    "\n",
    "        while True:\n",
    "            response = self.client.scroll(\n",
    "                collection_name=self.collection_name,\n",
    "                scroll_filter=None,  # No filter = retrieve all\n",
    "                limit=128,  # Adjust batch size as needed\n",
    "                offset=offset,\n",
    "                with_payload=True,\n",
    "                with_vectors=True\n",
    "            )\n",
    "\n",
    "            points, offset = response\n",
    "            all_embeddings.extend(points)\n",
    "\n",
    "            if offset is None:\n",
    "                break  # No more points to retrieve\n",
    "        return all_embeddings\n",
    "\n",
    "    def _build_metadata_filter(self, query: str) -> Filter:\n",
    "        \"\"\"\n",
    "        Turn raw string into a Qdrant Filter over `keywords` and `filename`.\n",
    "        Matches any token of length>2 appearing in those fields.\n",
    "        \"\"\"\n",
    "        tokens = {tok.lower() for tok in query.split() if len(tok) > 2}\n",
    "        conds = []\n",
    "        for tok in tokens:\n",
    "            conds.append(FieldCondition(key=\"keywords\", match=MatchAny(any=[tok])))\n",
    "            conds.append(FieldCondition(key=\"filename\", match=MatchText(text=tok)))\n",
    "        return Filter(should=conds) if conds else None\n",
    "\n",
    "    def _mmr(\n",
    "            self,\n",
    "            query_vec: np.ndarray,\n",
    "            candidates: List[np.ndarray],\n",
    "            scores: List[float],\n",
    "            k: int,\n",
    "            diversity: float = 0.5,\n",
    "    ) -> List[int]:\n",
    "        \"\"\"\n",
    "        Simple MMR selector: pick k indices balancing relevance (scores)\n",
    "        vs. diversity (cosine sim between candidates).\n",
    "        \"\"\"\n",
    "        # normalize\n",
    "        cands = np.vstack(candidates)\n",
    "        cands_norm = cands / np.linalg.norm(cands, axis=1, keepdims=True)\n",
    "        q_norm = query_vec / np.linalg.norm(query_vec)\n",
    "\n",
    "        selected = []\n",
    "        unpicked = set(range(len(scores)))\n",
    "        # start with best relevance\n",
    "        first = int(np.argmax(scores))\n",
    "        selected.append(first)\n",
    "        unpicked.remove(first)\n",
    "\n",
    "        while len(selected) < k and unpicked:\n",
    "            mmr_vals = {}\n",
    "            for i in unpicked:\n",
    "                rel = scores[i]\n",
    "                div = max(\n",
    "                    np.dot(cands_norm[i], cands_norm[j]) for j in selected\n",
    "                )\n",
    "                mmr_vals[i] = diversity * rel - (1 - diversity) * div\n",
    "            nxt = max(mmr_vals, key=mmr_vals.get)\n",
    "            selected.append(nxt)\n",
    "            unpicked.remove(nxt)\n",
    "\n",
    "        return selected\n",
    "\n",
    "    def _refine_query(self, query: str) -> str:\n",
    "        \"\"\"\n",
    "        Placeholder for “query refinement” (e.g. LLM paraphrase or keyword extract).\n",
    "        By default, returns the original query.\n",
    "        \"\"\"\n",
    "        return query\n",
    "\n",
    "    def retrieve(\n",
    "            self,\n",
    "            query: str,\n",
    "            *,\n",
    "            top_k: int = 5,\n",
    "            mode: str = \"hybrid\",  # \"vector\" | \"metadata\" | \"hybrid\"\n",
    "            strategy: str = \"knn\",  # \"knn\" | \"mmr\"\n",
    "            fetch_multiplier: int = 3,  # only used for MMR\n",
    "            random_rerank: bool = False,\n",
    "            rerun_refinement: bool = False,\n",
    "            refinement_threshold: float = 0.5,  # rerun if max_score < this\n",
    "    ) -> List[Tuple[str, float]]:\n",
    "        \"\"\"\n",
    "        Returns up to top_k (text, score) tuples.\n",
    "        \"\"\"\n",
    "        # step 1: metadata filter if needed\n",
    "        meta_filter = None\n",
    "        if mode in (\"metadata\", \"hybrid\"):\n",
    "            meta_filter = self._build_metadata_filter(query)\n",
    "\n",
    "        # step 2: vector embed if needed\n",
    "        query_vec = None\n",
    "        if mode in (\"vector\", \"hybrid\"):\n",
    "            # Not the most efficient way of doing things. Better approach: embedder returns torch vectors on GPU directly\n",
    "            vec_list = self.embedder.embed_single_text(query)\n",
    "            query_vec = torch.tensor(vec_list, device='cuda', dtype=torch.float32)\n",
    "\n",
    "        # step 3: retrieve\n",
    "        results = []\n",
    "        if mode == \"metadata\":\n",
    "            # purely metadata: scroll + equal confidence\n",
    "            docs = self.client.scroll(\n",
    "                collection_name=self.collection_name,\n",
    "                filter=meta_filter,\n",
    "                limit=top_k,\n",
    "                with_payload=True,\n",
    "            )\n",
    "            results = [(d.payload[\"text\"], 1.0) for d in docs]\n",
    "\n",
    "        else:\n",
    "            # vector or hybrid\n",
    "            limit = top_k if strategy == \"knn\" else top_k * fetch_multiplier\n",
    "            # search_res = self.client.search(\n",
    "            search_res = self.client.query_points(\n",
    "                collection_name=self.collection_name,\n",
    "                # query_vector=query_vec.tolist(),\n",
    "                query=query_vec.tolist(),\n",
    "                query_filter=meta_filter,\n",
    "                limit=limit,\n",
    "                with_payload=True,\n",
    "                with_vectors=(strategy == \"mmr\"),\n",
    "            )\n",
    "            # unpack\n",
    "            texts, scores, vecs = [], [], []\n",
    "            for scored_point in search_res.points:\n",
    "                texts.append(scored_point.payload[\"text\"])\n",
    "                scores.append(scored_point.score)\n",
    "                if strategy == \"mmr\":\n",
    "                    vecs.append(np.array(scored_point.vector, dtype=np.float32))\n",
    "\n",
    "            if strategy == \"knn\":\n",
    "                # just top_k by score\n",
    "                sliced = list(zip(texts, scores))[:top_k]\n",
    "                results = sliced\n",
    "\n",
    "            else:  # MMR\n",
    "                idxs = self._mmr(query_vec.tolist(), vecs, scores, top_k)\n",
    "                # idxs = self._mmr_torch(query_vec, vecs, scores, top_k)\n",
    "                results = [(texts[i], scores[i]) for i in idxs]\n",
    "\n",
    "        # step 4: optional random rerank\n",
    "        if random_rerank:\n",
    "            random.shuffle(results)\n",
    "\n",
    "        # step 5: optional refinement loop\n",
    "        if rerun_refinement and results:\n",
    "            max_score = max(score for _, score in results)\n",
    "            if max_score < refinement_threshold:\n",
    "                refined = self._refine_query(query)\n",
    "                alt = self.retrieve(\n",
    "                    refined,\n",
    "                    top_k=top_k,\n",
    "                    mode=mode,\n",
    "                    strategy=strategy,\n",
    "                    fetch_multiplier=fetch_multiplier,\n",
    "                    random_rerank=random_rerank,\n",
    "                    rerun_refinement=False,  # prevent loop\n",
    "                )\n",
    "                # merge & pick best unique texts\n",
    "                merged = {txt: scr for txt, scr in (results + alt)}\n",
    "                # sort & slice\n",
    "                results = sorted(\n",
    "                    merged.items(), key=lambda x: x[1], reverse=True\n",
    "                )[:top_k]\n",
    "\n",
    "        return results\n",
    "\n",
    "    def close(self) -> None:\n",
    "        \"\"\"\n",
    "        Close the Qdrant client connection to release any underlying resources.\n",
    "        \"\"\"\n",
    "        try:\n",
    "            self.client.close()\n",
    "        except AttributeError:\n",
    "            # QdrantClient may not expose a close method in some versions\n",
    "            pass"
   ]
  },
  {
   "cell_type": "code",
   "execution_count": 19,
   "id": "9fd814dac43f69d7",
   "metadata": {
    "ExecuteTime": {
     "end_time": "2025-05-23T21:12:37.030114Z",
     "start_time": "2025-05-23T21:12:37.016801Z"
    }
   },
   "outputs": [],
   "source": [
    "vector_store = VectorStore(path=\"qdrant_db\", collection_name=\"chunks\", embedder=embedder)"
   ]
  },
  {
   "cell_type": "markdown",
   "id": "08efe8bb-4a15-4e58-a441-71f7e53c01da",
   "metadata": {},
   "source": [
    "## Full sync vector database with chunks"
   ]
  },
  {
   "cell_type": "code",
   "execution_count": 20,
   "id": "29a8cd0c9fe32ac0",
   "metadata": {
    "ExecuteTime": {
     "end_time": "2025-05-23T02:59:13.491427Z",
     "start_time": "2025-05-23T02:59:12.306564Z"
    }
   },
   "outputs": [
    {
     "name": "stdout",
     "output_type": "stream",
     "text": [
      "Syncing chunks and embeddings: ChunkMode.text\n",
      "Syncing chunks and embeddings: ChunkMode.structure\n",
      "Syncing chunks and embeddings: ChunkMode.semantic\n"
     ]
    }
   ],
   "source": [
    "for mode in chunks.keys():\n",
    "    print(f\"Syncing chunks and embeddings: {mode}\")\n",
    "    vector_store.sync_embeddings(chunks[mode], embeddings[mode])"
   ]
  },
  {
   "cell_type": "code",
   "execution_count": 21,
   "id": "4c70ef3cd4a3060a",
   "metadata": {
    "ExecuteTime": {
     "end_time": "2025-05-23T20:31:39.693728Z",
     "start_time": "2025-05-23T20:31:39.687169Z"
    }
   },
   "outputs": [
    {
     "data": {
      "text/plain": [
       "252"
      ]
     },
     "execution_count": 21,
     "metadata": {},
     "output_type": "execute_result"
    }
   ],
   "source": [
    "all_embeddings = vector_store.load_all_embeddings()\n",
    "len(all_embeddings)"
   ]
  },
  {
   "cell_type": "code",
   "execution_count": 22,
   "id": "8a833a80c37089c",
   "metadata": {
    "ExecuteTime": {
     "end_time": "2025-05-23T20:25:50.519806Z",
     "start_time": "2025-05-23T20:25:50.514272Z"
    }
   },
   "outputs": [
    {
     "data": {
      "text/plain": [
       "384"
      ]
     },
     "execution_count": 22,
     "metadata": {},
     "output_type": "execute_result"
    }
   ],
   "source": [
    "len(all_embeddings[1].vector)"
   ]
  },
  {
   "cell_type": "code",
   "execution_count": 23,
   "id": "2fff7f1785e8939b",
   "metadata": {
    "ExecuteTime": {
     "end_time": "2025-05-23T20:25:55.264367Z",
     "start_time": "2025-05-23T20:25:55.259065Z"
    }
   },
   "outputs": [
    {
     "data": {
      "text/plain": [
       "{'text': \"basis\\nat least 28 days' notice the end of a weekly rental period\\n(This only applies to weekly\\ntenancies.)\\npays rent on a monthly basis at least 60 days' notice the end of a monthly rental period\\nhas a lease for a fixed term at least 60 days' notice no earlier than the last day of the\\nlease\\nA tenant and landlord can agree to end a tenancy early. The parties can make an oral agreement to end the\\ntenancy, but it is best to have a written agreement. A notice of termination does not have to be given by either\\nthe landlord or the tenant if there is an agreement to end the tenancy.\\nA tenant in a care home can end a tenancy early, by giving at least 30 days' notice in writing to the landlord.\\nAssigning a tenancy and subletting\\nA tenant may be able to transfer their right to occupy the rental unit to someone else. This is called an\\nassignment. In an assignment, a new person takes the place of the tenant, but all the terms of the rental\\nagreement stay the same.\",\n",
       " 'rec_id': 1,\n",
       " 'filename': '/home/electron/PycharmProjects/fine_tune_llm/RAG/pdfs/Guide_to_RTA_dec2020.pdf',\n",
       " 'summary_before': 'Tenants must give written notice to their landlord before moving out, with the required notice period based on the rental period.',\n",
       " 'summary_after': 'An assignment involves a new person taking over a rental agreement, while a sublet occurs when a tenant temporarily lets someone else live in the unit.',\n",
       " 'keywords': ['basis', 'notice', 'tenancy']}"
      ]
     },
     "execution_count": 23,
     "metadata": {},
     "output_type": "execute_result"
    }
   ],
   "source": [
    "all_embeddings[1].payload"
   ]
  },
  {
   "cell_type": "markdown",
   "id": "912e4059-a571-45cf-845b-73c1e82fed43",
   "metadata": {},
   "source": [
    "## Sample queries context retrieval"
   ]
  },
  {
   "cell_type": "code",
   "execution_count": 24,
   "id": "3babefc2-1cb4-4081-832e-01692a682902",
   "metadata": {},
   "outputs": [],
   "source": [
    "sample_queries = [\n",
    "    'I just moved in to my new apartment 3 months ago and now my landlord has increased the rent. Is that legal in Ontario?',\n",
    "    'My landlord just notified me that my rent will increase effective next month. Do I have to pay him extra coming next month?',\n",
    "    'My landlord entered my unit earlier today when I was not at work for without previous notice. He mentioned that there was a water leak in the kitchen. Is that legal?',\n",
    "    'I pay rent to my landlord every week. What is my notice period if I want to vacate the unit?',\n",
    "]"
   ]
  },
  {
   "cell_type": "code",
   "execution_count": 25,
   "id": "22b8df20-57dc-437c-8bb2-b494a40c5e90",
   "metadata": {},
   "outputs": [
    {
     "name": "stdout",
     "output_type": "stream",
     "text": [
      "Running query: I just moved in to my new apartment 3 months ago and now my landlord has increased the rent. Is that legal in Ontario?\n",
      "Retriving context top 3 context using knn method\n",
      "Finished context retrieval in 0.05 seconds\n",
      "\n",
      "Confidence: 0.6337752081043402 \n",
      " Context: Increase the Rent – There are special rules that limit how often a landlord can increase the rent and by how much. In most cases, a landlord can increase the rent only once a year by the guideline that is set by the Minister of Municipal Affairs and Housing. A landlord must give a tenant at least 90 days notice in writing of any rent increase and this notice must be on the proper form. Non-profit and public housing units, residences at schools, colleges and universities, and certain other accommodation are not covered by all the rent rules.\n",
      "\n",
      "\n",
      "Confidence: 0.5961476251979027 \n",
      " Context: If the landlord gives the tenant a notice to increase the rent, the landlord can also ask the tenant to increase the rent deposit by the same amount.\n",
      "\n",
      "A landlord must pay the tenant interest on the rent deposit every year. Under the Act, the interest rate is the same as the rent increase guideline (see the section \"the rent increase guideline\", below).\n",
      "\n",
      "\n",
      "Confidence: 0.5860031172999132 \n",
      " Context: landlord can increase the rent only once a year \n",
      "by the guideline that is set by the Minister of \n",
      "Municipal Affairs and Housing.36 A landlord \n",
      "must give a tenant at least 90 days notice in \n",
      "writing of any rent increase and this notice \n",
      "must be on the proper form. Non-profit and \n",
      "public housing units, residences at schools, \n",
      "colleges and universities, and certain other \n",
      "accommodation are not covered by all the rent \n",
      "rules. \n",
      " Enter the Unit without Notice – The Act \n",
      "only allows a landlord to enter a tenant’s unit \n",
      "under specific circumstances.37 In most cases, \n",
      "the landlord must first give the tenant 24 hours \n",
      "written notice, stating when they will enter \n",
      "and for what reason. There are exceptions, \n",
      "such as in case of an emergency or if the \n",
      "tenant agrees to allow the landlord to enter the \n",
      "unit. The tenant is not allowed to refuse if the \n",
      "Act permits the entry or the landlord may give \n",
      "a notice of termination.38 \n",
      " Shut Off or Deliberately Interfere with the\n",
      "\n",
      "\n",
      "##################################################\n",
      "\n",
      "\n",
      "Running query: My landlord just notified me that my rent will increase effective next month. Do I have to pay him extra coming next month?\n",
      "Retriving context top 3 context using knn method\n",
      "Finished context retrieval in 0.05 seconds\n",
      "\n",
      "Confidence: 0.660642569307385 \n",
      " Context: If the landlord gives the tenant a notice to increase the rent, the landlord can also ask the tenant to increase the rent deposit by the same amount.\n",
      "\n",
      "A landlord must pay the tenant interest on the rent deposit every year. Under the Act, the interest rate is the same as the rent increase guideline (see the section \"the rent increase guideline\", below).\n",
      "\n",
      "\n",
      "Confidence: 0.6268049006984552 \n",
      " Context: Increase the Rent – There are special rules that limit how often a landlord can increase the rent and by how much. In most cases, a landlord can increase the rent only once a year by the guideline that is set by the Minister of Municipal Affairs and Housing. A landlord must give a tenant at least 90 days notice in writing of any rent increase and this notice must be on the proper form. Non-profit and public housing units, residences at schools, colleges and universities, and certain other accommodation are not covered by all the rent rules.\n",
      "\n",
      "\n",
      "Confidence: 0.6026426549498197 \n",
      " Context: Once the landlord and tenant have agreed on a method of payment, it cannot be changed unless both the landlord and tenant agree.\n",
      "\n",
      "Rent receipts\n",
      "\n",
      "The landlord must give the tenant a receipt for any rent payment, rent deposit or other charge, if the tenant asks for one.\n",
      "\n",
      "A landlord must also give a former tenant a receipt if that person asks for one within 12 months after the end of their tenancy.\n",
      "\n",
      "The landlord cannot charge a fee for giving a receipt.\n",
      "\n",
      "Increasing a tenant's rent\n",
      "\n",
      "\n",
      "##################################################\n",
      "\n",
      "\n",
      "Running query: My landlord entered my unit earlier today when I was not at work for without previous notice. He mentioned that there was a water leak in the kitchen. Is that legal?\n",
      "Retriving context top 3 context using knn method\n",
      "Finished context retrieval in 0.04 seconds\n",
      "\n",
      "Confidence: 0.5768843098241712 \n",
      " Context: hot or cold water\n",
      "More information about maintenance and repairs\n",
      "For more information read the brochure called Maintenance and Repairs.\n",
      "About entering the rental unit\n",
      "Entry without written notice\n",
      "A landlord can enter a tenant's rental unit without written notice if:\n",
      "there is an emergency such as a fire\n",
      "the tenant agrees to let the landlord in\n",
      "a care home tenant has agreed in writing that the landlord can come in to check on their condition at\n",
      "regular intervals\n",
      "A landlord can enter a rental unit without written notice, between 8 a.m. and 8 p.m. if:\n",
      "the rental agreement requires the landlord to clean the unit - unless the agreement allows different\n",
      "hours for cleaning,\n",
      "the landlord or tenant has given a notice of termination, or they have an agreement to end the tenancy,\n",
      "and the landlord wants to show the unit to a potential new tenant (in this case, although notice is not\n",
      "required, the landlord must try to tell the tenant before entering for this reason).\n",
      "\n",
      "\n",
      "Confidence: 0.576325588928548 \n",
      " Context: Privacy – A landlord can only enter the rental unit for the reasons allowed by the Act. In most cases, before entering the unit, the landlord must give 24 hours written notice. There are some exceptions, however, such as in the case of an emergency or if the tenant agrees to allow the landlord to enter.\n",
      "\n",
      "\n",
      "Confidence: 0.5322124876891308 \n",
      " Context: A landlord can enter the rental unit between 8 a.m. and 8 p.m., and only if they have given the tenant 24 hours' written notice:\n",
      "\n",
      "\n",
      "##################################################\n",
      "\n",
      "\n",
      "Running query: I pay rent to my landlord every week. What is my notice period if I want to vacate the unit?\n",
      "Retriving context top 3 context using knn method\n",
      "Finished context retrieval in 0.02 seconds\n",
      "\n",
      "Confidence: 0.7012335626596744 \n",
      " Context: basis\n",
      "at least 28 days' notice the end of a weekly rental period\n",
      "(This only applies to weekly\n",
      "tenancies.)\n",
      "pays rent on a monthly basis at least 60 days' notice the end of a monthly rental period\n",
      "has a lease for a fixed term at least 60 days' notice no earlier than the last day of the\n",
      "lease\n",
      "A tenant and landlord can agree to end a tenancy early. The parties can make an oral agreement to end the\n",
      "tenancy, but it is best to have a written agreement. A notice of termination does not have to be given by either\n",
      "the landlord or the tenant if there is an agreement to end the tenancy.\n",
      "A tenant in a care home can end a tenancy early, by giving at least 30 days' notice in writing to the landlord.\n",
      "Assigning a tenancy and subletting\n",
      "A tenant may be able to transfer their right to occupy the rental unit to someone else. This is called an\n",
      "assignment. In an assignment, a new person takes the place of the tenant, but all the terms of the rental\n",
      "agreement stay the same.\n",
      "\n",
      "\n",
      "Confidence: 0.6938190175220346 \n",
      " Context: A tenant must give their landlord written notice if they plan to move out. The proper form for this notice (Form N9) is available from the LTB. The amount of notice that is required is based on the rental period, as follows:\n",
      "\n",
      "If the tenant:\n",
      "\n",
      "then the tenant must give:\n",
      "\n",
      "and the termination date must be:\n",
      "\n",
      "pays rent on a daily or weekly basis\n",
      "\n",
      "at least 28 days' notice\n",
      "\n",
      "the end of a weekly rental period (This only applies to weekly tenancies.)\n",
      "\n",
      "pays rent on a monthly basis\n",
      "\n",
      "at least 60 days' notice\n",
      "\n",
      "\n",
      "Confidence: 0.677857838326166 \n",
      " Context: as a monthly tenant, if they paid their rent by the month in the expired lease\n",
      "as a weekly tenant, if they paid their rent by the week in the expired lease.\n",
      "Where the tenant stays on as a monthly or weekly tenant, all the rules of the former lease will still apply to the\n",
      "landlord and tenant. But the landlord can increase the rent each year by the amount allowed under the Act.\n",
      "If a tenant wants to leave\n",
      "A tenant must give their landlord written notice if they plan to move out. The proper form for this notice (Form N9)\n",
      "is available from the LTB. The amount of notice that is required is based on the rental period, as follows:\n",
      "If the tenant: then the tenant must give: and the termination date\n",
      "must be:\n",
      "pays rent on a daily or weekly\n",
      "basis\n",
      "at least 28 days' notice the end of a weekly rental period\n",
      "(This only applies to weekly\n",
      "tenancies.)\n",
      "pays rent on a monthly basis at least 60 days' notice the end of a monthly rental period\n",
      "\n",
      "\n",
      "##################################################\n",
      "\n",
      "\n"
     ]
    }
   ],
   "source": [
    "query_context_mapper = {}\n",
    "for query in sample_queries:\n",
    "    print(f'Running query: {query}')\n",
    "    print(f'Retriving context top 3 context using knn method')\n",
    "    start_time = time.time()\n",
    "    retrieved_contexts = vector_store.retrieve(query=query, strategy=\"knn\", top_k=3)\n",
    "    end_time = time.time()\n",
    "    query_context_mapper[query] = [context[0] for context in retrieved_contexts]\n",
    "    print(f'Finished context retrieval in {end_time - start_time:.2f} seconds\\n')\n",
    "    for context in retrieved_contexts:\n",
    "        print(f'Confidence: {context[1]} \\n Context: {context[0]}')\n",
    "        print('\\n')\n",
    "    print('#' * 50)\n",
    "    print('\\n')"
   ]
  },
  {
   "cell_type": "markdown",
   "id": "77593a4e-5c1b-4559-9cd5-982a957ae665",
   "metadata": {},
   "source": [
    "## Close vector database connection"
   ]
  },
  {
   "cell_type": "code",
   "execution_count": null,
   "id": "fc86958b-a38f-44b7-88f0-85e58d7e394c",
   "metadata": {},
   "outputs": [],
   "source": [
    "# vector_store.close()"
   ]
  },
  {
   "cell_type": "markdown",
   "id": "2ef3d40b-b197-41bd-b919-4244264c4d5d",
   "metadata": {},
   "source": [
    "# Generation Pipeline"
   ]
  },
  {
   "cell_type": "code",
   "execution_count": 26,
   "id": "c399ee5abfb74a90",
   "metadata": {
    "ExecuteTime": {
     "end_time": "2025-05-24T04:17:22.664016Z",
     "start_time": "2025-05-24T04:17:22.642784Z"
    }
   },
   "outputs": [],
   "source": [
    "# Database Models\n",
    "class Chat(SQLModel, table=True):\n",
    "    __table_args__ = {\"extend_existing\": True}\n",
    "\n",
    "    id: Optional[int] = Field(default=None, primary_key=True)\n",
    "    created_at: datetime = Field(default_factory=datetime.utcnow)\n",
    "    use_vllm: bool = Field(default=False)\n",
    "    vllm_endpoint: Optional[str] = Field(default=None)\n",
    "\n",
    "\n",
    "class ChatRole(str, Enum):\n",
    "    system = \"system\"\n",
    "    user = \"user\"\n",
    "    assistant = \"assistant\"\n",
    "\n",
    "\n",
    "class Message(SQLModel, table=True):\n",
    "    __table_args__ = {\"extend_existing\": True}\n",
    "\n",
    "    id: Optional[int] = Field(default=None, primary_key=True)\n",
    "    chat_id: int = Field(foreign_key=\"chat.id\")\n",
    "    role: ChatRole = Field(description=\"Which chat role\")\n",
    "    content: str\n",
    "    timestamp: datetime = Field(default_factory=datetime.utcnow)\n",
    "\n",
    "\n",
    "# Generation Pipeline\n",
    "class Generation:\n",
    "    def __init__(\n",
    "            self,\n",
    "            db_url: str = \"sqlite:///./chats.db\",\n",
    "            openai_model: str = \"gpt-3.5-turbo\",  # \"gpt-4\"\n",
    "            max_tokens: int = 2000,\n",
    "            summarization_model: str = \"sshleifer/distilbart-cnn-12-6\",  # \"facebook/bart-large-cnn\"\n",
    "    ):\n",
    "        # Initialize database\n",
    "        self.engine = create_engine(db_url, echo=False)\n",
    "        SQLModel.metadata.create_all(self.engine)\n",
    "\n",
    "        # LLM settings\n",
    "        self.openai_model = openai_model\n",
    "        self.max_tokens = max_tokens\n",
    "\n",
    "        # Tokenizer for token counting\n",
    "        self.tokenizer = tiktoken.encoding_for_model(openai_model)\n",
    "\n",
    "        # Summarization pipeline\n",
    "        self.summarizer = hf_pipeline(\"summarization\", model=summarization_model)\n",
    "\n",
    "    # Database Helpers\n",
    "    def create_chat(self, use_vllm: bool = False, vllm_endpoint: Optional[str] = None) -> int:\n",
    "        \"\"\"\n",
    "        Create a new chat entry in the database.\n",
    "        Returns the new chat_id.\n",
    "        \"\"\"\n",
    "        chat = Chat(use_vllm=use_vllm, vllm_endpoint=vllm_endpoint)\n",
    "        with Session(self.engine) as session:\n",
    "            session.add(chat)\n",
    "            session.commit()\n",
    "            session.refresh(chat)\n",
    "        return chat.id\n",
    "\n",
    "    def list_chats(self) -> List[Dict[str, Any]]:\n",
    "        \"\"\"\n",
    "        Fetch all chats with their IDs and settings.\n",
    "        \"\"\"\n",
    "        with Session(self.engine) as session:\n",
    "            chats = session.exec(select(Chat)).all()\n",
    "        return [\n",
    "            {\"id\": c.id, 'created_at': c.created_at.strftime('%Y-%m-%d %H:%M:%S'), \"use_vllm\": c.use_vllm, \"vllm_endpoint\": c.vllm_endpoint}\n",
    "            for c in chats\n",
    "        ]\n",
    "\n",
    "    def _get_chat_history(self, chat_id: int) -> List[Dict[str, str]]:\n",
    "        \"\"\"\n",
    "        Retrieve ordered chat history for a given chat_id.\n",
    "        \"\"\"\n",
    "        with Session(self.engine) as session:\n",
    "            msgs = session.exec(\n",
    "                select(Message).where(Message.chat_id == chat_id).order_by(Message.id)\n",
    "            ).all()\n",
    "        return [{\"role\": m.role, \"content\": m.content} for m in msgs]\n",
    "\n",
    "    def _append_message(self, chat_id: int, role: str, content: str) -> None:\n",
    "        \"\"\"\n",
    "        Append a message to chat history in DB.\n",
    "        \"\"\"\n",
    "        msg = Message(chat_id=chat_id, role=role, content=content)\n",
    "        with Session(self.engine) as session:\n",
    "            session.add(msg)\n",
    "            session.commit()\n",
    "\n",
    "    # Context Window Management\n",
    "    def _count_tokens(self, text: str) -> int:\n",
    "        \"\"\"\n",
    "        Count tokens in a text string.\n",
    "        \"\"\"\n",
    "        return len(self.tokenizer.encode(text))\n",
    "\n",
    "    def _clip_or_summarize(\n",
    "            self,\n",
    "            history: List[Dict[str, str]],\n",
    "            mode: Literal[\"clip\", \"summarize\"] = \"clip\",\n",
    "    ) -> List[Dict[str, str]]:\n",
    "        \"\"\"\n",
    "        Ensure history fits within max_tokens by clipping or summarization.\n",
    "        \"\"\"\n",
    "        # Compute total tokens\n",
    "        total = sum(self._count_tokens(m[\"content\"]) for m in history)\n",
    "        if total <= self.max_tokens:\n",
    "            return history\n",
    "\n",
    "        if mode == \"clip\":\n",
    "            # Drop oldest messages until within limit\n",
    "            clipped = history.copy()\n",
    "            while sum(self._count_tokens(m[\"content\"]) for m in clipped) > self.max_tokens:\n",
    "                clipped.pop(0)\n",
    "            print(f'Clipping Context window from {total} tokens to {sum(self._count_tokens(m[\"content\"]) for m in clipped)} tokens.')\n",
    "            return clipped\n",
    "\n",
    "        # Summarization mode: summarize oldest half\n",
    "        half_limit = self.max_tokens // 2\n",
    "        oldest, rest = [], []\n",
    "        token_acc = 0\n",
    "        for msg in history:\n",
    "            size = self._count_tokens(msg[\"content\"])\n",
    "            if token_acc + size <= half_limit:\n",
    "                oldest.append(msg)\n",
    "                token_acc += size\n",
    "            else:\n",
    "                rest.append(msg)\n",
    "        # Create a concatenated text to summarize\n",
    "        text_to_sum = \"\\n\".join(f\"{m['role']}: {m['content']}\" for m in oldest)\n",
    "        summary = self.summarizer(\n",
    "            text_to_sum, max_length=150, min_length=30, do_sample=False\n",
    "        )[0][\"summary_text\"]\n",
    "        # Prepend summary as system message\n",
    "        summarized = [{\"role\": \"system\", \"content\": f\"Summary of earlier conversation: {summary}\"}] + rest\n",
    "        print(f'Summarized Context window from {total} tokens to {sum(self._count_tokens(m[\"content\"]) for m in summarized)} tokens.')\n",
    "        return summarized\n",
    "\n",
    "    # LLM Invocation\n",
    "    def _call_llm(\n",
    "            self, messages: List[Dict[str, str]], chat_id: int\n",
    "    ) -> str:\n",
    "        \"\"\"\n",
    "        Call the configured LLM (OpenAI or local vLLM) with chat messages.\n",
    "        \"\"\"\n",
    "        # Fetch chat settings\n",
    "        with Session(self.engine) as session:\n",
    "            chat = session.get(Chat, chat_id)\n",
    "\n",
    "        # Prepare LangChain messages\n",
    "        lc_msgs: List[BaseMessage] = []\n",
    "        for m in messages:\n",
    "            if m[\"role\"] == \"system\":\n",
    "                lc_msgs.append(SystemMessage(content=m[\"content\"]))\n",
    "            elif m[\"role\"] == \"user\":\n",
    "                lc_msgs.append(HumanMessage(content=m[\"content\"]))\n",
    "            else:\n",
    "                lc_msgs.append(AIMessage(content=m[\"content\"]))\n",
    "\n",
    "        if chat.use_vllm and chat.vllm_endpoint:\n",
    "            # Local vLLM endpoint\n",
    "            payload = {\"messages\": messages}\n",
    "            resp = requests.post(chat.vllm_endpoint, json=payload)\n",
    "            resp.raise_for_status()\n",
    "            return resp.json()[\"choices\"][0][\"message\"][\"content\"]\n",
    "\n",
    "        # Default to OpenAI\n",
    "        client = ChatOpenAI(model_name=self.openai_model, openai_api_key=api_key)\n",
    "        response = client(lc_msgs)\n",
    "        return response.content\n",
    "\n",
    "    # Public Generate API\n",
    "    def generate(\n",
    "            self,\n",
    "            query: str,\n",
    "            context: Optional[str] = None,\n",
    "            chat_id: Optional[int] = None,\n",
    "            mode: Literal[\"clip\", \"summarize\"] = \"clip\",\n",
    "            use_vllm: bool = False,\n",
    "            vllm_endpoint: Optional[str] = None,\n",
    "    ) -> Dict[str, Any]:\n",
    "        \"\"\"\n",
    "        Generate a response for a query with optional context.\n",
    "        If chat_id is None, a new chat is created.\n",
    "        Returns dict with keys: chat_id, response, history.\n",
    "        \"\"\"\n",
    "        # Initialize or resume chat\n",
    "        if chat_id is None:\n",
    "            chat_id = self.create_chat(use_vllm=use_vllm, vllm_endpoint=vllm_endpoint)\n",
    "\n",
    "        # Append system context\n",
    "        if context:\n",
    "            self._append_message(chat_id, \"system\", context)\n",
    "        # Append user query\n",
    "        self._append_message(chat_id, \"user\", query)\n",
    "\n",
    "        # Retrieve and manage history\n",
    "        history = self._get_chat_history(chat_id)\n",
    "        pruned = self._clip_or_summarize(history, mode)\n",
    "\n",
    "        # Invoke LLM\n",
    "        resp_text = self._call_llm(pruned, chat_id)\n",
    "        # Append assistant response\n",
    "        self._append_message(chat_id, \"assistant\", resp_text)\n",
    "\n",
    "        return {\"chat_id\": chat_id, \"response\": resp_text, \"history\": pruned}\n",
    "\n",
    "    # Utility to fetch chat history externally\n",
    "    def fetch_history(self, chat_id: int) -> List[Dict[str, str]]:\n",
    "        \"\"\"\n",
    "        Public method to retrieve full chat history.\n",
    "        \"\"\"\n",
    "        return self._get_chat_history(chat_id)\n",
    "\n",
    "    def generate_temporary(self, query: str) -> str:\n",
    "        client = ChatOpenAI(model_name=self.openai_model, openai_api_key=api_key)\n",
    "        response = client([HumanMessage(content=query)])\n",
    "        return response.content"
   ]
  },
  {
   "cell_type": "code",
   "execution_count": 27,
   "id": "9408307fd0e34b3a",
   "metadata": {
    "ExecuteTime": {
     "end_time": "2025-05-24T04:17:31.952257Z",
     "start_time": "2025-05-24T04:17:31.049150Z"
    }
   },
   "outputs": [
    {
     "name": "stderr",
     "output_type": "stream",
     "text": [
      "Device set to use cuda:0\n"
     ]
    }
   ],
   "source": [
    "# Setting max token to 100 to test context summarization/clipping\n",
    "generation = Generation(max_tokens=1000)"
   ]
  },
  {
   "cell_type": "markdown",
   "id": "75a321f2-92aa-4a4f-9bf9-b4c0fd254110",
   "metadata": {},
   "source": [
    "## RAG vs. No-Context generation comparison"
   ]
  },
  {
   "cell_type": "code",
   "execution_count": 28,
   "id": "c95b4010-5df5-4b3f-994e-2122347bbebe",
   "metadata": {},
   "outputs": [
    {
     "name": "stdout",
     "output_type": "stream",
     "text": [
      "Running Query: I just moved in to my new apartment 3 months ago and now my landlord has increased the rent. Is that legal in Ontario? \n",
      "\n"
     ]
    },
    {
     "name": "stderr",
     "output_type": "stream",
     "text": [
      "/tmp/ipykernel_30454/2289380599.py:171: LangChainDeprecationWarning: The class `ChatOpenAI` was deprecated in LangChain 0.0.10 and will be removed in 1.0. An updated version of the class exists in the :class:`~langchain-openai package and should be used instead. To use it run `pip install -U :class:`~langchain-openai` and import as `from :class:`~langchain_openai import ChatOpenAI``.\n",
      "  client = ChatOpenAI(model_name=self.openai_model, openai_api_key=api_key)\n",
      "/tmp/ipykernel_30454/2289380599.py:172: LangChainDeprecationWarning: The method `BaseChatModel.__call__` was deprecated in langchain-core 0.1.7 and will be removed in 1.0. Use :meth:`~invoke` instead.\n",
      "  response = client(lc_msgs)\n"
     ]
    },
    {
     "name": "stdout",
     "output_type": "stream",
     "text": [
      "Finished generation in 1.89 seconds\n",
      "\n",
      "Response for chat_id=1 WITH context:\n",
      "In Ontario, landlords can only increase the rent once a year by the guideline set by the Minister of Municipal Affairs and Housing. They must give tenants at least 90 days notice in writing of any rent increase. If your landlord has increased the rent within only 3 months of you moving in, it may not be legal unless there are specific circumstances that allow for it. You may want to check the rental laws in Ontario or consult with a legal professional to understand your rights in this situation.\n",
      "\n",
      "\n",
      "Response for chat_id=1 WITHOUT context:\n",
      "In Ontario, landlords are allowed to increase the rent once every 12 months for existing tenants, as long as they provide proper notice and follow the rules set out in the Residential Tenancies Act. The landlord must provide at least 90 days' written notice before the rent increase takes effect. Additionally, the rent increase must be within the guidelines set by the government, which are typically around 1-2% per year. If the landlord has followed these rules, then the rent increase would be considered legal. If you believe that the rent increase is not in compliance with the law, you may contact the Landlord and Tenant Board for more information and to discuss your options.\n",
      "\n",
      "\n",
      "##################################################\n",
      "\n",
      "\n",
      "Running Query: My landlord just notified me that my rent will increase effective next month. Do I have to pay him extra coming next month? \n",
      "\n",
      "Finished generation in 1.65 seconds\n",
      "\n",
      "Response for chat_id=2 WITH context:\n",
      "Yes, if your landlord has given you proper notice of a rent increase, you will be required to pay the increased amount starting from the effective date stated in the notice. The landlord must provide you with at least 90 days' written notice of any rent increase. Additionally, the landlord can also ask you to increase the rent deposit by the same amount as the rent increase.\n",
      "\n",
      "\n",
      "Response for chat_id=2 WITHOUT context:\n",
      "Yes, you will be required to pay the increased rent amount starting next month as per the terms of your lease agreement. It is important to review your lease agreement to understand any clauses related to rent increases and make sure that the landlord has followed the proper procedures for notifying you of the increase. If you have any concerns or questions, it is best to discuss them with your landlord directly.\n",
      "\n",
      "\n",
      "##################################################\n",
      "\n",
      "\n",
      "Running Query: My landlord entered my unit earlier today when I was not at work for without previous notice. He mentioned that there was a water leak in the kitchen. Is that legal? \n",
      "\n",
      "Finished generation in 1.59 seconds\n",
      "\n",
      "Response for chat_id=3 WITH context:\n",
      "If there was a water leak in your unit and your landlord entered without previous notice to address the emergency, it may be considered legal. Landlords are allowed to enter a rental unit without written notice in case of emergencies, such as a fire or a water leak that could cause damage to the property. However, it is important for landlords to provide notice whenever possible and to respect the tenant's privacy rights. If you have concerns about your landlord's actions, you may want to review your rental agreement and the applicable landlord-tenant laws in your area, or consider discussing the situation with a legal professional.\n",
      "\n",
      "\n",
      "Response for chat_id=3 WITHOUT context:\n",
      "In most jurisdictions, landlords are required to provide tenants with a reasonable amount of notice before entering the rental unit, typically 24-48 hours. This notice requirement is designed to protect the tenant's right to privacy and quiet enjoyment of the property.\n",
      "\n",
      "However, there are exceptions to this rule in emergency situations, such as a water leak that could cause damage to the property or pose a safety hazard. In such cases, the landlord may be permitted to enter the unit without prior notice to address the emergency.\n",
      "\n",
      "It is important to review your lease agreement and local landlord-tenant laws to determine if your landlord's actions were legal in this situation. If you believe your landlord violated your rights by entering the unit without notice, you may want to discuss the matter with a legal professional or tenant advocacy organization.\n",
      "\n",
      "\n",
      "##################################################\n",
      "\n",
      "\n",
      "Running Query: I pay rent to my landlord every week. What is my notice period if I want to vacate the unit? \n",
      "\n",
      "Finished generation in 0.98 seconds\n",
      "\n",
      "Response for chat_id=4 WITH context:\n",
      "If you pay rent on a weekly basis, you must give your landlord at least 28 days' notice to vacate the unit. The termination date must be the end of a weekly rental period. This notice period applies specifically to weekly tenancies.\n",
      "\n",
      "\n",
      "Response for chat_id=4 WITHOUT context:\n",
      "Your notice period will depend on the terms of your rental agreement with your landlord. In most cases, landlords require tenants to give 30 days' notice before vacating the unit. However, some landlords may require longer notice periods, such as 60 or 90 days. It is important to review your rental agreement or speak with your landlord to determine the specific notice period required in your situation.\n",
      "\n",
      "\n",
      "##################################################\n",
      "\n",
      "\n"
     ]
    }
   ],
   "source": [
    "chat_responses = {}\n",
    "for query, contexts in query_context_mapper.items():\n",
    "    print(f'Running Query: {query} \\n')\n",
    "    start_time = time.time()\n",
    "    chat_info = generation.generate(query=query, context='\\n'.join(contexts))\n",
    "    end_time = time.time()\n",
    "    print(f'Finished generation in {end_time - start_time:.2f} seconds\\n')\n",
    "    print(f'Response for chat_id={chat_info['chat_id']} WITH context:')\n",
    "    chat_responses[query] = chat_info\n",
    "    print(chat_info['response'])\n",
    "    print('\\n')\n",
    "    no_context_response = generation.generate_temporary(query=query)\n",
    "    print(f'Response for chat_id={chat_info['chat_id']} WITHOUT context:')\n",
    "    print(no_context_response)\n",
    "    print('\\n')\n",
    "    print('#' * 50)\n",
    "    print('\\n')"
   ]
  },
  {
   "cell_type": "markdown",
   "id": "65632609-d1df-4b0f-931f-8e7cf68d94d8",
   "metadata": {},
   "source": [
    "## Notice the more accurate response for RAG vs. non-RAG\n",
    "\n",
    "**Question: I pay rent to my landlord every week. What is my notice period if I want to vacate the unit?**\n",
    "\n",
    "**RAG Response**:\n",
    "\n",
    "If you pay rent on a weekly basis, you must give your landlord **at least 28 days' notice** to vacate the unit. The termination date must be the end of a weekly rental period. This notice period applies specifically to weekly tenancies.\n",
    "\n",
    "\n",
    "**non-RAG Response**:\n",
    "\n",
    "Your notice period will depend on the terms of your rental agreement with your landlord. In most cases, landlords require tenants to give 30 days' notice before vacating the unit. However, some landlords may require longer notice periods, **such as 60 or 90 days**. It is important to review your rental agreement or speak with your landlord to determine the specific notice period required in your situation.\n"
   ]
  },
  {
   "cell_type": "markdown",
   "id": "5151396e-f889-4970-aa24-ac9a111c574a",
   "metadata": {},
   "source": [
    "## Load chat history"
   ]
  },
  {
   "cell_type": "code",
   "execution_count": 29,
   "id": "55146b751762686b",
   "metadata": {
    "ExecuteTime": {
     "end_time": "2025-05-24T04:01:42.773388Z",
     "start_time": "2025-05-24T04:01:42.761205Z"
    }
   },
   "outputs": [
    {
     "data": {
      "text/plain": [
       "{'chat_id': 3,\n",
       " 'created_at': '2025-05-28 02:21:55',\n",
       " 'history': [{'role': <ChatRole.system: 'system'>,\n",
       "   'content': \"hot or cold water\\nMore information about maintenance and repairs\\nFor more information read the brochure called Maintenance and Repairs.\\nAbout entering the rental unit\\nEntry without written notice\\nA landlord can enter a tenant's rental unit without written notice if:\\nthere is an emergency such as a fire\\nthe tenant agrees to let the landlord in\\na care home tenant has agreed in writing that the landlord can come in to check on their condition at\\nregular intervals\\nA landlord can enter a rental unit without written notice, between 8 a.m. and 8 p.m. if:\\nthe rental agreement requires the landlord to clean the unit - unless the agreement allows different\\nhours for cleaning,\\nthe landlord or tenant has given a notice of termination, or they have an agreement to end the tenancy,\\nand the landlord wants to show the unit to a potential new tenant (in this case, although notice is not\\nrequired, the landlord must try to tell the tenant before entering for this reason).\\nPrivacy – A landlord can only enter the rental unit for the reasons allowed by the Act. In most cases, before entering the unit, the landlord must give 24 hours written notice. There are some exceptions, however, such as in the case of an emergency or if the tenant agrees to allow the landlord to enter.\\nA landlord can enter the rental unit between 8 a.m. and 8 p.m., and only if they have given the tenant 24 hours' written notice:\"},\n",
       "  {'role': <ChatRole.user: 'user'>,\n",
       "   'content': 'My landlord entered my unit earlier today when I was not at work for without previous notice. He mentioned that there was a water leak in the kitchen. Is that legal?'},\n",
       "  {'role': <ChatRole.assistant: 'assistant'>,\n",
       "   'content': \"If there was a water leak in your unit and your landlord entered without previous notice to address the emergency, it may be considered legal. Landlords are allowed to enter a rental unit without written notice in case of emergencies, such as a fire or a water leak that could cause damage to the property. However, it is important for landlords to provide notice whenever possible and to respect the tenant's privacy rights. If you have concerns about your landlord's actions, you may want to review your rental agreement and the applicable landlord-tenant laws in your area, or consider discussing the situation with a legal professional.\"}]}"
      ]
     },
     "execution_count": 29,
     "metadata": {},
     "output_type": "execute_result"
    }
   ],
   "source": [
    "chat_history = []\n",
    "chats = generation.list_chats()\n",
    "for c in chats:\n",
    "    history = generation.fetch_history(chat_id=c[\"id\"])\n",
    "    chat_history.append({\n",
    "        \"chat_id\": c[\"id\"],\n",
    "        \"created_at\": c[\"created_at\"],\n",
    "        \"history\": history\n",
    "    })\n",
    "chat_history[2] # Entry to unit"
   ]
  },
  {
   "cell_type": "markdown",
   "id": "382c016f-b960-4c52-a2b3-1423efa16932",
   "metadata": {},
   "source": [
    "## Resume a chat"
   ]
  },
  {
   "cell_type": "code",
   "execution_count": 30,
   "id": "f94e3c93752daa13",
   "metadata": {
    "ExecuteTime": {
     "end_time": "2025-05-24T04:03:15.682621Z",
     "start_time": "2025-05-24T04:03:13.109676Z"
    }
   },
   "outputs": [
    {
     "data": {
      "text/plain": [
       "\"A landlord can enter a tenant's rental unit without written notice in the following situations:\\n\\n1. Emergency: If there is an emergency such as a fire or a water leak that requires immediate attention to prevent damage to the property or ensure the safety of occupants, the landlord can enter without prior notice.\\n\\n2. Tenant's Agreement: If the tenant agrees to let the landlord in without written notice, the landlord can enter the rental unit.\\n\\n3. Care Home Tenant Agreement: In the case of a care home tenant, if they have agreed in writing that the landlord can come in to check on their condition at regular intervals, the landlord can enter without notice.\\n\\nAdditionally, a landlord can enter a rental unit without written notice between 8 a.m. and 8 p.m. in the following situations:\\n\\n1. Required Cleaning: If the rental agreement requires the landlord to clean the unit, the landlord can enter without notice, unless the agreement specifies different hours for cleaning.\\n\\n2. Notice of Termination: If the landlord or tenant has given a notice of termination, or they have an agreement to end the tenancy, the landlord can enter to show the unit to a potential new tenant. In this case, the landlord must try to inform the tenant before entering, even though notice is not required.\\n\\nIt is important for landlords to follow the rules and regulations outlined in the applicable landlord-tenant laws to respect the tenant's privacy rights and ensure proper communication and transparency in entering the rental unit.\""
      ]
     },
     "execution_count": 30,
     "metadata": {},
     "output_type": "execute_result"
    }
   ],
   "source": [
    "chat_resumption_info = generation.generate(query='In what situations can the landlord enter my home without notice? Elaborate.',\n",
    "                                           chat_id=chat_history[2]['chat_id'])\n",
    "chat_resumption_info['response']"
   ]
  },
  {
   "cell_type": "code",
   "execution_count": 31,
   "id": "c076bb8b-b845-4275-915f-440abc9ddd9f",
   "metadata": {},
   "outputs": [
    {
     "data": {
      "text/plain": [
       "[{'role': <ChatRole.system: 'system'>,\n",
       "  'content': \"hot or cold water\\nMore information about maintenance and repairs\\nFor more information read the brochure called Maintenance and Repairs.\\nAbout entering the rental unit\\nEntry without written notice\\nA landlord can enter a tenant's rental unit without written notice if:\\nthere is an emergency such as a fire\\nthe tenant agrees to let the landlord in\\na care home tenant has agreed in writing that the landlord can come in to check on their condition at\\nregular intervals\\nA landlord can enter a rental unit without written notice, between 8 a.m. and 8 p.m. if:\\nthe rental agreement requires the landlord to clean the unit - unless the agreement allows different\\nhours for cleaning,\\nthe landlord or tenant has given a notice of termination, or they have an agreement to end the tenancy,\\nand the landlord wants to show the unit to a potential new tenant (in this case, although notice is not\\nrequired, the landlord must try to tell the tenant before entering for this reason).\\nPrivacy – A landlord can only enter the rental unit for the reasons allowed by the Act. In most cases, before entering the unit, the landlord must give 24 hours written notice. There are some exceptions, however, such as in the case of an emergency or if the tenant agrees to allow the landlord to enter.\\nA landlord can enter the rental unit between 8 a.m. and 8 p.m., and only if they have given the tenant 24 hours' written notice:\"},\n",
       " {'role': <ChatRole.user: 'user'>,\n",
       "  'content': 'My landlord entered my unit earlier today when I was not at work for without previous notice. He mentioned that there was a water leak in the kitchen. Is that legal?'},\n",
       " {'role': <ChatRole.assistant: 'assistant'>,\n",
       "  'content': \"If there was a water leak in your unit and your landlord entered without previous notice to address the emergency, it may be considered legal. Landlords are allowed to enter a rental unit without written notice in case of emergencies, such as a fire or a water leak that could cause damage to the property. However, it is important for landlords to provide notice whenever possible and to respect the tenant's privacy rights. If you have concerns about your landlord's actions, you may want to review your rental agreement and the applicable landlord-tenant laws in your area, or consider discussing the situation with a legal professional.\"},\n",
       " {'role': <ChatRole.user: 'user'>,\n",
       "  'content': 'In what situations can the landlord enter my home without notice? Elaborate.'}]"
      ]
     },
     "execution_count": 31,
     "metadata": {},
     "output_type": "execute_result"
    }
   ],
   "source": [
    "chat_resumption_info['history']"
   ]
  },
  {
   "cell_type": "code",
   "execution_count": 32,
   "id": "e8fa7ed6-c5e4-4c94-985f-ad3273ce655b",
   "metadata": {},
   "outputs": [
    {
     "data": {
      "text/plain": [
       "\"In most cases, a landlord is required to provide a tenant with a 24-hour written notice before entering the rental unit for non-emergency reasons. Some common situations that require a 24-hour notice for the landlord to enter the tenant's home include:\\n\\n1. Repairs and Maintenance: If the landlord needs to enter the rental unit to perform repairs, maintenance, or inspections that are not urgent or related to an emergency, they must typically provide the tenant with a 24-hour written notice.\\n\\n2. Inspections: Routine inspections of the rental unit, such as annual inspections for safety or maintenance purposes, usually require a 24-hour notice from the landlord to the tenant.\\n\\n3. Showing the Unit to Prospective Tenants: If the landlord wants to show the rental unit to potential new tenants, they are generally required to give the current tenant a 24-hour written notice before entering the premises.\\n\\n4. Pest Control Services: If pest control services need to be conducted in the rental unit, the landlord should provide the tenant with a 24-hour notice before the treatment takes place.\\n\\n5. Other Non-Emergency Reasons: Any other non-emergency reasons for the landlord to enter the rental unit, such as conducting repairs, property inspections, or other necessary activities, usually require a 24-hour written notice to the tenant.\\n\\nIt is important for landlords to adhere to the required notice periods and respect the tenant's right to privacy and peaceful enjoyment of the rental unit. Tenants should review their rental agreement and familiarize themselves with the landlord-tenant laws in their jurisdiction to understand their rights and responsibilities regarding landlord entry into the rental unit.\""
      ]
     },
     "execution_count": 32,
     "metadata": {},
     "output_type": "execute_result"
    }
   ],
   "source": [
    "chat_resumption_info = generation.generate(query='And what situations require a 24 hour notice for the landlord to enter my home? Elaborate.',\n",
    "                                           chat_id=chat_history[2]['chat_id'])\n",
    "chat_resumption_info['response']"
   ]
  },
  {
   "cell_type": "code",
   "execution_count": 33,
   "id": "c195760069478c5d",
   "metadata": {
    "ExecuteTime": {
     "end_time": "2025-05-24T04:05:17.316684Z",
     "start_time": "2025-05-24T04:05:17.309792Z"
    }
   },
   "outputs": [
    {
     "data": {
      "text/plain": [
       "[{'role': <ChatRole.system: 'system'>,\n",
       "  'content': \"hot or cold water\\nMore information about maintenance and repairs\\nFor more information read the brochure called Maintenance and Repairs.\\nAbout entering the rental unit\\nEntry without written notice\\nA landlord can enter a tenant's rental unit without written notice if:\\nthere is an emergency such as a fire\\nthe tenant agrees to let the landlord in\\na care home tenant has agreed in writing that the landlord can come in to check on their condition at\\nregular intervals\\nA landlord can enter a rental unit without written notice, between 8 a.m. and 8 p.m. if:\\nthe rental agreement requires the landlord to clean the unit - unless the agreement allows different\\nhours for cleaning,\\nthe landlord or tenant has given a notice of termination, or they have an agreement to end the tenancy,\\nand the landlord wants to show the unit to a potential new tenant (in this case, although notice is not\\nrequired, the landlord must try to tell the tenant before entering for this reason).\\nPrivacy – A landlord can only enter the rental unit for the reasons allowed by the Act. In most cases, before entering the unit, the landlord must give 24 hours written notice. There are some exceptions, however, such as in the case of an emergency or if the tenant agrees to allow the landlord to enter.\\nA landlord can enter the rental unit between 8 a.m. and 8 p.m., and only if they have given the tenant 24 hours' written notice:\"},\n",
       " {'role': <ChatRole.user: 'user'>,\n",
       "  'content': 'My landlord entered my unit earlier today when I was not at work for without previous notice. He mentioned that there was a water leak in the kitchen. Is that legal?'},\n",
       " {'role': <ChatRole.assistant: 'assistant'>,\n",
       "  'content': \"If there was a water leak in your unit and your landlord entered without previous notice to address the emergency, it may be considered legal. Landlords are allowed to enter a rental unit without written notice in case of emergencies, such as a fire or a water leak that could cause damage to the property. However, it is important for landlords to provide notice whenever possible and to respect the tenant's privacy rights. If you have concerns about your landlord's actions, you may want to review your rental agreement and the applicable landlord-tenant laws in your area, or consider discussing the situation with a legal professional.\"},\n",
       " {'role': <ChatRole.user: 'user'>,\n",
       "  'content': 'In what situations can the landlord enter my home without notice? Elaborate.'},\n",
       " {'role': <ChatRole.assistant: 'assistant'>,\n",
       "  'content': \"A landlord can enter a tenant's rental unit without written notice in the following situations:\\n\\n1. Emergency: If there is an emergency such as a fire or a water leak that requires immediate attention to prevent damage to the property or ensure the safety of occupants, the landlord can enter without prior notice.\\n\\n2. Tenant's Agreement: If the tenant agrees to let the landlord in without written notice, the landlord can enter the rental unit.\\n\\n3. Care Home Tenant Agreement: In the case of a care home tenant, if they have agreed in writing that the landlord can come in to check on their condition at regular intervals, the landlord can enter without notice.\\n\\nAdditionally, a landlord can enter a rental unit without written notice between 8 a.m. and 8 p.m. in the following situations:\\n\\n1. Required Cleaning: If the rental agreement requires the landlord to clean the unit, the landlord can enter without notice, unless the agreement specifies different hours for cleaning.\\n\\n2. Notice of Termination: If the landlord or tenant has given a notice of termination, or they have an agreement to end the tenancy, the landlord can enter to show the unit to a potential new tenant. In this case, the landlord must try to inform the tenant before entering, even though notice is not required.\\n\\nIt is important for landlords to follow the rules and regulations outlined in the applicable landlord-tenant laws to respect the tenant's privacy rights and ensure proper communication and transparency in entering the rental unit.\"},\n",
       " {'role': <ChatRole.user: 'user'>,\n",
       "  'content': 'And what situations require a 24 hour notice for the landlord to enter my home? Elaborate.'}]"
      ]
     },
     "execution_count": 33,
     "metadata": {},
     "output_type": "execute_result"
    }
   ],
   "source": [
    "chat_resumption_info['history']"
   ]
  },
  {
   "cell_type": "markdown",
   "id": "d5452b7a-6c59-470f-88b5-53b07e9b79a6",
   "metadata": {},
   "source": [
    "## Test context window shortening (Clipping default)"
   ]
  },
  {
   "cell_type": "code",
   "execution_count": 34,
   "id": "5c63332c-fc57-4eb6-bef3-cb1a9cbbd824",
   "metadata": {},
   "outputs": [
    {
     "name": "stdout",
     "output_type": "stream",
     "text": [
      "Clipping Context window from 1128 tokens to 832 tokens.\n"
     ]
    },
    {
     "data": {
      "text/plain": [
       "\"In most jurisdictions, the notice to enter the rental unit provided by the landlord does not necessarily have to specify a reason for entry. Landlord-tenant laws typically require landlords to provide a certain amount of advance notice before entering the rental unit, but they may not always mandate that the notice include a specific reason for the entry.\\n\\nHowever, some rental agreements or local laws may require landlords to provide a reason for entry in the notice. Even if not required, it is generally considered good practice for landlords to communicate the purpose of their entry in the notice to provide transparency and maintain a positive landlord-tenant relationship.\\n\\nIn situations where a reason for entry is not provided in the notice, tenants may feel more comfortable if the landlord communicates the purpose of the visit when they arrive at the rental unit. This can help to alleviate any concerns or uncertainties the tenant may have about the landlord's presence in their home.\\n\\nUltimately, tenants should review their rental agreement and familiarize themselves with the specific landlord-tenant laws applicable to their area to understand the requirements for entry notices and any provisions regarding the reason for entry. Effective communication between landlords and tenants can help ensure a respectful and harmonious living environment for all parties involved.\""
      ]
     },
     "execution_count": 34,
     "metadata": {},
     "output_type": "execute_result"
    }
   ],
   "source": [
    "chat_resumption_info = generation.generate(query='Does the notice to enter have to have a reason for entry? Elaborate.',\n",
    "                                           chat_id=chat_history[2]['chat_id'])\n",
    "chat_resumption_info['response']"
   ]
  },
  {
   "cell_type": "code",
   "execution_count": 35,
   "id": "f80c96c1-0a05-474f-bc89-513b1eaef2a3",
   "metadata": {},
   "outputs": [
    {
     "data": {
      "text/plain": [
       "[{'role': <ChatRole.user: 'user'>,\n",
       "  'content': 'My landlord entered my unit earlier today when I was not at work for without previous notice. He mentioned that there was a water leak in the kitchen. Is that legal?'},\n",
       " {'role': <ChatRole.assistant: 'assistant'>,\n",
       "  'content': \"If there was a water leak in your unit and your landlord entered without previous notice to address the emergency, it may be considered legal. Landlords are allowed to enter a rental unit without written notice in case of emergencies, such as a fire or a water leak that could cause damage to the property. However, it is important for landlords to provide notice whenever possible and to respect the tenant's privacy rights. If you have concerns about your landlord's actions, you may want to review your rental agreement and the applicable landlord-tenant laws in your area, or consider discussing the situation with a legal professional.\"},\n",
       " {'role': <ChatRole.user: 'user'>,\n",
       "  'content': 'In what situations can the landlord enter my home without notice? Elaborate.'},\n",
       " {'role': <ChatRole.assistant: 'assistant'>,\n",
       "  'content': \"A landlord can enter a tenant's rental unit without written notice in the following situations:\\n\\n1. Emergency: If there is an emergency such as a fire or a water leak that requires immediate attention to prevent damage to the property or ensure the safety of occupants, the landlord can enter without prior notice.\\n\\n2. Tenant's Agreement: If the tenant agrees to let the landlord in without written notice, the landlord can enter the rental unit.\\n\\n3. Care Home Tenant Agreement: In the case of a care home tenant, if they have agreed in writing that the landlord can come in to check on their condition at regular intervals, the landlord can enter without notice.\\n\\nAdditionally, a landlord can enter a rental unit without written notice between 8 a.m. and 8 p.m. in the following situations:\\n\\n1. Required Cleaning: If the rental agreement requires the landlord to clean the unit, the landlord can enter without notice, unless the agreement specifies different hours for cleaning.\\n\\n2. Notice of Termination: If the landlord or tenant has given a notice of termination, or they have an agreement to end the tenancy, the landlord can enter to show the unit to a potential new tenant. In this case, the landlord must try to inform the tenant before entering, even though notice is not required.\\n\\nIt is important for landlords to follow the rules and regulations outlined in the applicable landlord-tenant laws to respect the tenant's privacy rights and ensure proper communication and transparency in entering the rental unit.\"},\n",
       " {'role': <ChatRole.user: 'user'>,\n",
       "  'content': 'And what situations require a 24 hour notice for the landlord to enter my home? Elaborate.'},\n",
       " {'role': <ChatRole.assistant: 'assistant'>,\n",
       "  'content': \"In most cases, a landlord is required to provide a tenant with a 24-hour written notice before entering the rental unit for non-emergency reasons. Some common situations that require a 24-hour notice for the landlord to enter the tenant's home include:\\n\\n1. Repairs and Maintenance: If the landlord needs to enter the rental unit to perform repairs, maintenance, or inspections that are not urgent or related to an emergency, they must typically provide the tenant with a 24-hour written notice.\\n\\n2. Inspections: Routine inspections of the rental unit, such as annual inspections for safety or maintenance purposes, usually require a 24-hour notice from the landlord to the tenant.\\n\\n3. Showing the Unit to Prospective Tenants: If the landlord wants to show the rental unit to potential new tenants, they are generally required to give the current tenant a 24-hour written notice before entering the premises.\\n\\n4. Pest Control Services: If pest control services need to be conducted in the rental unit, the landlord should provide the tenant with a 24-hour notice before the treatment takes place.\\n\\n5. Other Non-Emergency Reasons: Any other non-emergency reasons for the landlord to enter the rental unit, such as conducting repairs, property inspections, or other necessary activities, usually require a 24-hour written notice to the tenant.\\n\\nIt is important for landlords to adhere to the required notice periods and respect the tenant's right to privacy and peaceful enjoyment of the rental unit. Tenants should review their rental agreement and familiarize themselves with the landlord-tenant laws in their jurisdiction to understand their rights and responsibilities regarding landlord entry into the rental unit.\"},\n",
       " {'role': <ChatRole.user: 'user'>,\n",
       "  'content': 'Does the notice to enter have to have a reason for entry? Elaborate.'}]"
      ]
     },
     "execution_count": 35,
     "metadata": {},
     "output_type": "execute_result"
    }
   ],
   "source": [
    "chat_resumption_info['history']"
   ]
  },
  {
   "cell_type": "markdown",
   "id": "f1c9909a-39c0-4ee1-aaf1-5a686b9ca7a8",
   "metadata": {},
   "source": [
    "## Test context window shortening (Summarization)"
   ]
  },
  {
   "cell_type": "code",
   "execution_count": 36,
   "id": "62b9bea5-acf6-416d-a103-4af4ee7e97c5",
   "metadata": {},
   "outputs": [
    {
     "name": "stdout",
     "output_type": "stream",
     "text": [
      "Summarized Context window from 1387 tokens to 988 tokens.\n"
     ]
    },
    {
     "data": {
      "text/plain": [
       "\"In most jurisdictions, landlords are typically allowed to enter a rental unit between certain specified hours of the day, even with a valid notice provided to the tenant. The specific hours during which a landlord can enter a tenant's home may vary depending on local landlord-tenant laws or the terms outlined in the rental agreement. However, the following general guidelines are commonly observed:\\n\\n1. **Standard Hours**: Landlords are usually permitted to enter a rental unit between reasonable hours, typically defined as between 8 a.m. and 8 p.m. This timeframe is considered reasonable and respects the tenant's right to privacy and peaceful enjoyment of their home.\\n\\n2. **24-Hour Notice**: Landlords are typically required to provide tenants with advance notice before entering the rental unit, usually at least 24 hours in advance. The notice should specify the date and time of entry, allowing tenants to prepare for the landlord's visit.\\n\\n3. **Emergency Exceptions**: In cases of emergencies that require immediate attention to prevent damage to the property or address safety concerns, landlords may be allowed to enter the rental unit outside of the standard hours without providing prior notice to the tenant.\\n\\n4. **Tenant's Consent**: If a tenant agrees to let the landlord enter the rental unit at a specific time outside of the standard hours, the landlord may do so with the tenant's consent. In such cases, it is advisable to have the agreement documented in writing to avoid any misunderstandings.\\n\\nIt is important for landlords to adhere to the specified hours for entry outlined in the applicable laws or rental agreement and to respect the tenant's right to privacy and quiet enjoyment of their home. Tenants should familiarize themselves with their rights regarding landlord entry and review their rental agreement to understand the conditions under which landlords are permitted to enter the rental unit. Effective communication and mutual respect between landlords and tenants can help maintain a positive landlord-tenant relationship.\""
      ]
     },
     "execution_count": 36,
     "metadata": {},
     "output_type": "execute_result"
    }
   ],
   "source": [
    "chat_resumption_info = generation.generate(query='What hours of the day can the landlord enter my home even with a notice? Elaborate.',\n",
    "                                           chat_id=chat_history[2]['chat_id'],\n",
    "                                           mode=\"summarize\")\n",
    "chat_resumption_info['response']"
   ]
  },
  {
   "cell_type": "code",
   "execution_count": 37,
   "id": "6dc393924abdf48f",
   "metadata": {
    "ExecuteTime": {
     "end_time": "2025-05-24T04:05:19.045159Z",
     "start_time": "2025-05-24T04:05:19.042207Z"
    }
   },
   "outputs": [
    {
     "data": {
      "text/plain": [
       "[{'role': 'system',\n",
       "  'content': \"Summary of earlier conversation:  Landlords are allowed to enter a rental unit without written notice in case of emergencies, such as a fire or a water leak that could cause damage to the property . Landlords can enter the rental unit between 8 a.m. and 8 p.m., and only if they have given the tenant 24 hours' written notice . A landlord can only enter the unit for the reasons allowed by the Act .\"},\n",
       " {'role': <ChatRole.assistant: 'assistant'>,\n",
       "  'content': \"A landlord can enter a tenant's rental unit without written notice in the following situations:\\n\\n1. Emergency: If there is an emergency such as a fire or a water leak that requires immediate attention to prevent damage to the property or ensure the safety of occupants, the landlord can enter without prior notice.\\n\\n2. Tenant's Agreement: If the tenant agrees to let the landlord in without written notice, the landlord can enter the rental unit.\\n\\n3. Care Home Tenant Agreement: In the case of a care home tenant, if they have agreed in writing that the landlord can come in to check on their condition at regular intervals, the landlord can enter without notice.\\n\\nAdditionally, a landlord can enter a rental unit without written notice between 8 a.m. and 8 p.m. in the following situations:\\n\\n1. Required Cleaning: If the rental agreement requires the landlord to clean the unit, the landlord can enter without notice, unless the agreement specifies different hours for cleaning.\\n\\n2. Notice of Termination: If the landlord or tenant has given a notice of termination, or they have an agreement to end the tenancy, the landlord can enter to show the unit to a potential new tenant. In this case, the landlord must try to inform the tenant before entering, even though notice is not required.\\n\\nIt is important for landlords to follow the rules and regulations outlined in the applicable landlord-tenant laws to respect the tenant's privacy rights and ensure proper communication and transparency in entering the rental unit.\"},\n",
       " {'role': <ChatRole.assistant: 'assistant'>,\n",
       "  'content': \"In most cases, a landlord is required to provide a tenant with a 24-hour written notice before entering the rental unit for non-emergency reasons. Some common situations that require a 24-hour notice for the landlord to enter the tenant's home include:\\n\\n1. Repairs and Maintenance: If the landlord needs to enter the rental unit to perform repairs, maintenance, or inspections that are not urgent or related to an emergency, they must typically provide the tenant with a 24-hour written notice.\\n\\n2. Inspections: Routine inspections of the rental unit, such as annual inspections for safety or maintenance purposes, usually require a 24-hour notice from the landlord to the tenant.\\n\\n3. Showing the Unit to Prospective Tenants: If the landlord wants to show the rental unit to potential new tenants, they are generally required to give the current tenant a 24-hour written notice before entering the premises.\\n\\n4. Pest Control Services: If pest control services need to be conducted in the rental unit, the landlord should provide the tenant with a 24-hour notice before the treatment takes place.\\n\\n5. Other Non-Emergency Reasons: Any other non-emergency reasons for the landlord to enter the rental unit, such as conducting repairs, property inspections, or other necessary activities, usually require a 24-hour written notice to the tenant.\\n\\nIt is important for landlords to adhere to the required notice periods and respect the tenant's right to privacy and peaceful enjoyment of the rental unit. Tenants should review their rental agreement and familiarize themselves with the landlord-tenant laws in their jurisdiction to understand their rights and responsibilities regarding landlord entry into the rental unit.\"},\n",
       " {'role': <ChatRole.user: 'user'>,\n",
       "  'content': 'Does the notice to enter have to have a reason for entry? Elaborate.'},\n",
       " {'role': <ChatRole.assistant: 'assistant'>,\n",
       "  'content': \"In most jurisdictions, the notice to enter the rental unit provided by the landlord does not necessarily have to specify a reason for entry. Landlord-tenant laws typically require landlords to provide a certain amount of advance notice before entering the rental unit, but they may not always mandate that the notice include a specific reason for the entry.\\n\\nHowever, some rental agreements or local laws may require landlords to provide a reason for entry in the notice. Even if not required, it is generally considered good practice for landlords to communicate the purpose of their entry in the notice to provide transparency and maintain a positive landlord-tenant relationship.\\n\\nIn situations where a reason for entry is not provided in the notice, tenants may feel more comfortable if the landlord communicates the purpose of the visit when they arrive at the rental unit. This can help to alleviate any concerns or uncertainties the tenant may have about the landlord's presence in their home.\\n\\nUltimately, tenants should review their rental agreement and familiarize themselves with the specific landlord-tenant laws applicable to their area to understand the requirements for entry notices and any provisions regarding the reason for entry. Effective communication between landlords and tenants can help ensure a respectful and harmonious living environment for all parties involved.\"},\n",
       " {'role': <ChatRole.user: 'user'>,\n",
       "  'content': 'What hours of the day can the landlord enter my home even with a notice? Elaborate.'}]"
      ]
     },
     "execution_count": 37,
     "metadata": {},
     "output_type": "execute_result"
    }
   ],
   "source": [
    "chat_resumption_info['history']"
   ]
  },
  {
   "cell_type": "markdown",
   "id": "b8582f2d-7add-49c6-946c-abefcb5738eb",
   "metadata": {},
   "source": [
    "## Test context window shortening (Clipping explicit)"
   ]
  },
  {
   "cell_type": "code",
   "execution_count": 38,
   "id": "551f0783-bcce-41f1-86e4-6a181730cb3f",
   "metadata": {},
   "outputs": [
    {
     "name": "stdout",
     "output_type": "stream",
     "text": [
      "Clipping Context window from 1784 tokens to 673 tokens.\n"
     ]
    },
    {
     "data": {
      "text/plain": [
       "\"The days of the week on which a landlord can enter a rental unit with notice can vary depending on local landlord-tenant laws and the terms outlined in the rental agreement. However, some general guidelines are commonly followed:\\n\\n1. **Business Days**: Landlords typically schedule entry into a rental unit during regular business days, which are considered to be Monday through Friday. This is to ensure that tenants are not inconvenienced during weekends or holidays when they may be spending time at home or entertaining guests.\\n\\n2. **Excluding Holidays**: Landlords may avoid entering a rental unit on public holidays or days when the rental office is closed. This is out of respect for both the tenant's personal time and the general observance of holidays.\\n\\n3. **Advance Notice**: Landlords are usually required to provide tenants with advance notice before entering the rental unit, typically at least 24 hours in advance. The notice should specify the date, time, and reason for entry, allowing tenants to make necessary arrangements.\\n\\n4. **Emergency Exceptions**: In cases of emergencies that require immediate attention to prevent property damage or address safety concerns, landlords may be allowed to enter the rental unit on any day of the week without providing prior notice to the tenant.\\n\\n5. **Tenant's Consent**: If a tenant agrees to let the landlord enter the rental unit on a specific day outside of the standard business days, the landlord may do so with the tenant's consent. It is advisable to have any agreement documented in writing to avoid misunderstandings.\\n\\nIt is important for landlords to adhere to the specified guidelines for entry outlined in the relevant laws or rental agreement and to respect the tenant's right to privacy and peaceful enjoyment of their home. Tenants should review their rental agreement and familiarize themselves with their rights regarding landlord entry to understand the conditions under which landlords are permitted to enter the rental unit. Effective communication and mutual respect between landlords and tenants can help maintain a positive and harmonious landlord-tenant relationship.\""
      ]
     },
     "execution_count": 38,
     "metadata": {},
     "output_type": "execute_result"
    }
   ],
   "source": [
    "chat_resumption_info = generation.generate(query='What days of the week can the landlord enter my home even with a notice? Elaborate.',\n",
    "                                           chat_id=chat_history[2]['chat_id'],\n",
    "                                           mode=\"clip\")\n",
    "chat_resumption_info['response']"
   ]
  },
  {
   "cell_type": "code",
   "execution_count": 39,
   "id": "d0b7c726-7402-443c-919f-c162825e6178",
   "metadata": {},
   "outputs": [
    {
     "data": {
      "text/plain": [
       "[{'role': <ChatRole.user: 'user'>,\n",
       "  'content': 'Does the notice to enter have to have a reason for entry? Elaborate.'},\n",
       " {'role': <ChatRole.assistant: 'assistant'>,\n",
       "  'content': \"In most jurisdictions, the notice to enter the rental unit provided by the landlord does not necessarily have to specify a reason for entry. Landlord-tenant laws typically require landlords to provide a certain amount of advance notice before entering the rental unit, but they may not always mandate that the notice include a specific reason for the entry.\\n\\nHowever, some rental agreements or local laws may require landlords to provide a reason for entry in the notice. Even if not required, it is generally considered good practice for landlords to communicate the purpose of their entry in the notice to provide transparency and maintain a positive landlord-tenant relationship.\\n\\nIn situations where a reason for entry is not provided in the notice, tenants may feel more comfortable if the landlord communicates the purpose of the visit when they arrive at the rental unit. This can help to alleviate any concerns or uncertainties the tenant may have about the landlord's presence in their home.\\n\\nUltimately, tenants should review their rental agreement and familiarize themselves with the specific landlord-tenant laws applicable to their area to understand the requirements for entry notices and any provisions regarding the reason for entry. Effective communication between landlords and tenants can help ensure a respectful and harmonious living environment for all parties involved.\"},\n",
       " {'role': <ChatRole.user: 'user'>,\n",
       "  'content': 'What hours of the day can the landlord enter my home even with a notice? Elaborate.'},\n",
       " {'role': <ChatRole.assistant: 'assistant'>,\n",
       "  'content': \"In most jurisdictions, landlords are typically allowed to enter a rental unit between certain specified hours of the day, even with a valid notice provided to the tenant. The specific hours during which a landlord can enter a tenant's home may vary depending on local landlord-tenant laws or the terms outlined in the rental agreement. However, the following general guidelines are commonly observed:\\n\\n1. **Standard Hours**: Landlords are usually permitted to enter a rental unit between reasonable hours, typically defined as between 8 a.m. and 8 p.m. This timeframe is considered reasonable and respects the tenant's right to privacy and peaceful enjoyment of their home.\\n\\n2. **24-Hour Notice**: Landlords are typically required to provide tenants with advance notice before entering the rental unit, usually at least 24 hours in advance. The notice should specify the date and time of entry, allowing tenants to prepare for the landlord's visit.\\n\\n3. **Emergency Exceptions**: In cases of emergencies that require immediate attention to prevent damage to the property or address safety concerns, landlords may be allowed to enter the rental unit outside of the standard hours without providing prior notice to the tenant.\\n\\n4. **Tenant's Consent**: If a tenant agrees to let the landlord enter the rental unit at a specific time outside of the standard hours, the landlord may do so with the tenant's consent. In such cases, it is advisable to have the agreement documented in writing to avoid any misunderstandings.\\n\\nIt is important for landlords to adhere to the specified hours for entry outlined in the applicable laws or rental agreement and to respect the tenant's right to privacy and quiet enjoyment of their home. Tenants should familiarize themselves with their rights regarding landlord entry and review their rental agreement to understand the conditions under which landlords are permitted to enter the rental unit. Effective communication and mutual respect between landlords and tenants can help maintain a positive landlord-tenant relationship.\"},\n",
       " {'role': <ChatRole.user: 'user'>,\n",
       "  'content': 'What days of the week can the landlord enter my home even with a notice? Elaborate.'}]"
      ]
     },
     "execution_count": 39,
     "metadata": {},
     "output_type": "execute_result"
    }
   ],
   "source": [
    "chat_resumption_info['history']"
   ]
  },
  {
   "cell_type": "code",
   "execution_count": null,
   "id": "ad335afe-61b1-4e36-9a71-42502c2a9f19",
   "metadata": {},
   "outputs": [],
   "source": []
  }
 ],
 "metadata": {
  "kernelspec": {
   "display_name": "Python 3 (ipykernel)",
   "language": "python",
   "name": "python3"
  },
  "language_info": {
   "codemirror_mode": {
    "name": "ipython",
    "version": 3
   },
   "file_extension": ".py",
   "mimetype": "text/x-python",
   "name": "python",
   "nbconvert_exporter": "python",
   "pygments_lexer": "ipython3",
   "version": "3.12.7"
  }
 },
 "nbformat": 4,
 "nbformat_minor": 5
}
