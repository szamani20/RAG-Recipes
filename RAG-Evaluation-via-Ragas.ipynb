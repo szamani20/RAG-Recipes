{
 "cells": [
  {
   "cell_type": "markdown",
   "id": "fc5e6747-086e-41af-8c4c-a1de7c0d685d",
   "metadata": {
    "ExecuteTime": {
     "end_time": "2025-05-30T16:03:50.381776Z",
     "start_time": "2025-05-30T16:03:49.713988Z"
    },
    "collapsed": true,
    "jupyter": {
     "outputs_hidden": true
    }
   },
   "source": [
    "# Ragas (Rag Assessment)"
   ]
  },
  {
   "cell_type": "markdown",
   "id": "1b0a12f5-7e96-435f-8c05-120a79307368",
   "metadata": {},
   "source": [
    "RAG Evaluation measures the effectiveness of Retrieval-Augmented Generation systems by assessing how well retrieved documents support generated answers. The `Ragas` library simplifies this process by providing ready-to-use metrics and tools tailored for evaluating RAG pipelines. It supports both reference-based and reference-free evaluations for comprehensive insights. (reference = ground truth)"
   ]
  },
  {
   "cell_type": "markdown",
   "id": "51878628-e21b-4b5d-bf2d-1f9f422a8b24",
   "metadata": {},
   "source": [
    "## Metrics Used"
   ]
  },
  {
   "cell_type": "markdown",
   "id": "4a52d15a-4955-4391-aeb5-bbe7c3e95224",
   "metadata": {},
   "source": [
    "### LLM Context Precision With Reference\n",
    "`LLMContextPrecisionWithReference` measures the proportion of retrieved context chunks that directly support the reference answer by using an LLM to compare each chunk to the answer.\n",
    "\n",
    "### Non LLM Context Precision With Reference\n",
    "`NonLLMContextPrecisionWithReference` measures the fraction of retrieved context chunks that match any reference context using a non-LLM similarity measure.\n",
    "\n",
    "### LLM Context Recall\n",
    "`LLMContextRecall` measures how many key facts or claims in the reference are covered by the retrieved contexts by using an LLM to check each fact.\n",
    "\n",
    "### Non LLM Context Recall\n",
    "`NonLLMContextRecall` measures the fraction of reference contexts that were successfully retrieved by comparing entities or text spans with a non-LLM similarity measure.\n",
    "\n",
    "### Context Entity Recall\n",
    "`ContextEntityRecall` computes the fraction of named entities in the reference that also appear in the retrieved contexts.\n",
    "\n",
    "### Response Relevancy\n",
    "`ResponseRelevancy` measures how directly the generated response addresses the user input by using an LLM or embeddings to score relevance.\n",
    "\n",
    "### Faithfulness\n",
    "`Faithfulness` measures the factual consistency of the response by calculating the fraction of claims in the response that are supported by the retrieved contexts.\n",
    "\n",
    "### Faithfulness With HHEM\n",
    "`FaithfulnesswithHHEM` uses a pre-trained HHEM classifier to verify each claim in the response against the retrieved contexts and computes the fraction of supported claims.\n",
    "\n",
    "### Semantic Similarity\n",
    "`SemanticSimilarity` measures the semantic closeness between the generated response and the reference by computing an embedding-based similarity score.\n"
   ]
  },
  {
   "cell_type": "markdown",
   "id": "8b473b8b-b333-48db-b84c-881a494538ee",
   "metadata": {},
   "source": [
    "# Imports"
   ]
  },
  {
   "cell_type": "code",
   "execution_count": 1,
   "id": "68a1386b-cdd8-4cdd-8f39-2ec18d1423e7",
   "metadata": {},
   "outputs": [
    {
     "name": "stderr",
     "output_type": "stream",
     "text": [
      "/home/electron/PycharmProjects/fine_tune_llm/venv/lib/python3.12/site-packages/tqdm/auto.py:21: TqdmWarning: IProgress not found. Please update jupyter and ipywidgets. See https://ipywidgets.readthedocs.io/en/stable/user_install.html\n",
      "  from .autonotebook import tqdm as notebook_tqdm\n"
     ]
    }
   ],
   "source": [
    "from typing import List, Dict, Optional, Any, Union\n",
    "from datetime import datetime\n",
    "from sqlmodel import SQLModel, Field, create_engine, Session, select\n",
    "from sqlalchemy import Column, JSON\n",
    "from enum import Enum\n",
    "import asyncio\n",
    "from tqdm import tqdm\n",
    "\n",
    "from ragas.dataset_schema import SingleTurnSample\n",
    "from ragas.metrics import (\n",
    "    LLMContextPrecisionWithReference,\n",
    "    NonLLMContextPrecisionWithReference,\n",
    "    LLMContextRecall,\n",
    "    NonLLMContextRecall,\n",
    "    ContextEntityRecall,\n",
    "    ResponseRelevancy,\n",
    "    Faithfulness,\n",
    "    FaithfulnesswithHHEM,\n",
    "    SemanticSimilarity,\n",
    ")\n",
    "\n",
    "from ragas.llms import LangchainLLMWrapper\n",
    "from ragas.embeddings import LangchainEmbeddingsWrapper\n",
    "from langchain_openai import ChatOpenAI\n",
    "from langchain_openai import OpenAIEmbeddings\n",
    "\n",
    "import os\n",
    "\n",
    "import pandas as pd\n",
    "import matplotlib.pyplot as plt\n",
    "import seaborn as sns"
   ]
  },
  {
   "cell_type": "markdown",
   "id": "74324b98-8617-448d-8fdf-61493d1e7c98",
   "metadata": {},
   "source": [
    "# Print Versions"
   ]
  },
  {
   "cell_type": "code",
   "execution_count": 3,
   "id": "a5842734-8abe-4e02-b274-064a49938ba1",
   "metadata": {},
   "outputs": [
    {
     "name": "stdout",
     "output_type": "stream",
     "text": [
      "\n",
      "🌱 Welcome to your Environment Info Report! 🌱\n",
      "\n",
      "🐍 Python:       CPython 3.12.7\n",
      "💻 Platform:     Linux 6.11.0-26-generic (x86_64)\n",
      "\n",
      "🚀 CUDA Available: True\n",
      "   • CUDA Version:   12.4\n",
      "   • cuDNN Version:  90100\n",
      "   • GPU Count:      1\n",
      "     - GPU 0:      NVIDIA GeForce RTX 4070 Laptop GPU\n",
      "\n",
      "📦 nvcc: Cuda compilation tools, release 12.1, V12.1.105\n",
      "\n",
      "📊 nvidia-smi info:\n",
      "   NVIDIA GeForce RTX 4070 Laptop GPU, 570.133.07, 8188 MiB\n",
      "\n",
      "📚 Library versions:\n",
      "🔖 torch           version: 2.6.0+cu124\n",
      "🔖 torchvision     version: 0.21.0+cu124\n",
      "🔖 torchaudio      version: 2.6.0+cu124\n",
      "🔖 transformers    version: 4.51.3\n",
      "🔖 accelerate      version: 1.6.0\n",
      "🔖 trl             version: 0.17.0\n",
      "🔖 peft            version: 0.15.2\n",
      "🔖 deepspeed       not installed\n",
      "🔖 bitsandbytes    version: 0.45.5\n",
      "🔖 datasets        version: 3.6.0\n",
      "🔖 evaluate        version: 0.4.3\n",
      "🔖 tokenizers      version: 0.21.1\n",
      "🔖 sentencepiece   version: 0.2.0\n",
      "🔖 huggingface_hub version: 0.31.2\n",
      "🔖 numpy           version: 2.2.5\n",
      "🔖 scipy           version: 1.15.3\n",
      "🔖 pandas          version: 2.2.3\n",
      "🔖 scikit-learn    version: 1.6.1\n",
      "🔖 wandb           version: 0.19.11\n",
      "🔖 tensorboard     not installed\n",
      "🔖 mlflow          not installed\n",
      "🔖 sqlmodel        version: 0.0.24\n",
      "🔖 ragas           version: 0.2.15\n",
      "🔖 seaborn         version: 0.13.2\n",
      "\n",
      "🔧 Conda env: (none)\n",
      "\n",
      "🌐 Environment variables:\n",
      "   - CUDA_HOME       = \n",
      "   - CUDA_PATH       = \n",
      "   - LD_LIBRARY_PATH = \n",
      "   - HF_HOME         = \n",
      "   - HF_DATASETS_CACHE = \n",
      "\n",
      "✨ All set! Keep growing and training with confidence! ✨\n",
      "\n"
     ]
    }
   ],
   "source": [
    "import sys\n",
    "import platform\n",
    "import os\n",
    "import subprocess\n",
    "\n",
    "\n",
    "def print_env_info():\n",
    "    print(\"\\n🌱 Welcome to your Environment Info Report! 🌱\\n\")\n",
    "\n",
    "    # Python & OS\n",
    "    print(f\"🐍 Python:       {platform.python_implementation()} {platform.python_version()}\")\n",
    "    print(f\"💻 Platform:     {platform.system()} {platform.release()} ({platform.machine()})\\n\")\n",
    "\n",
    "    # CUDA & GPU via PyTorch\n",
    "    try:\n",
    "        import torch\n",
    "        cuda_avail = torch.cuda.is_available()\n",
    "        print(f\"🚀 CUDA Available: {cuda_avail}\")\n",
    "        if cuda_avail:\n",
    "            print(f\"   • CUDA Version:   {torch.version.cuda}\")\n",
    "            print(f\"   • cuDNN Version:  {torch.backends.cudnn.version()}\")\n",
    "            n_gpus = torch.cuda.device_count()\n",
    "            print(f\"   • GPU Count:      {n_gpus}\")\n",
    "            for i in range(n_gpus):\n",
    "                print(f\"     - GPU {i}:      {torch.cuda.get_device_name(i)}\")\n",
    "    except ImportError:\n",
    "        print(\"🚫 PyTorch not installed, skipping CUDA/GPU info\")\n",
    "\n",
    "    # nvcc (if available)\n",
    "    try:\n",
    "        out = subprocess.check_output(['nvcc', '--version'], stderr=subprocess.STDOUT)\n",
    "        release = [l for l in out.decode().splitlines() if \"release\" in l]\n",
    "        print(f\"\\n📦 nvcc: {release[-1].strip()}\")\n",
    "    except Exception:\n",
    "        print(\"\\n📦 nvcc: not found in PATH\")\n",
    "\n",
    "    # nvidia-smi\n",
    "    try:\n",
    "        out = subprocess.check_output([\n",
    "            'nvidia-smi',\n",
    "            '--query-gpu=name,driver_version,memory.total',\n",
    "            '--format=csv,noheader'], stderr=subprocess.DEVNULL\n",
    "        ).decode().strip().splitlines()\n",
    "        print(\"\\n📊 nvidia-smi info:\")\n",
    "        for line in out:\n",
    "            print(\"   \" + line)\n",
    "    except Exception:\n",
    "        print(\"\\n📊 nvidia-smi: not available\")\n",
    "\n",
    "    # Helper to show versions\n",
    "    def show_ver(label, import_name=None):\n",
    "        try:\n",
    "            m = __import__(import_name or label)\n",
    "            v = getattr(m, '__version__', None) or getattr(m, 'VERSION', None) or str(m)\n",
    "            print(f\"🔖 {label:<15} version: {v}\")\n",
    "        except ImportError:\n",
    "            print(f\"🔖 {label:<15} not installed\")\n",
    "\n",
    "    # Popular ML/LLM libraries\n",
    "    print(\"\\n📚 Library versions:\")\n",
    "    libs = [\n",
    "        ('torch',      None),\n",
    "        ('torchvision', None),\n",
    "        ('torchaudio',  None),\n",
    "        ('transformers', None),\n",
    "        ('accelerate',  None),\n",
    "        ('trl',         'trl'),\n",
    "        ('peft',        'peft'),\n",
    "        ('deepspeed',   None),\n",
    "        ('bitsandbytes', None),\n",
    "        ('datasets',    'datasets'),\n",
    "        ('evaluate',    'evaluate'),\n",
    "        ('tokenizers',  None),\n",
    "        ('sentencepiece', None),\n",
    "        ('huggingface_hub', None),\n",
    "        ('numpy',       'numpy'),\n",
    "        ('scipy',       'scipy'),\n",
    "        ('pandas',      'pandas'),\n",
    "        ('scikit-learn','sklearn'),\n",
    "        ('wandb',       'wandb'),\n",
    "        ('tensorboard', 'tensorboard'),\n",
    "        ('mlflow',      'mlflow'),\n",
    "        ('sqlmodel',    'sqlmodel'),\n",
    "        ('ragas',    'ragas'),\n",
    "        ('seaborn',    'seaborn'),\n",
    "    ]\n",
    "    for label, name in libs:\n",
    "        show_ver(label, name)\n",
    "\n",
    "    # Conda env and key env vars\n",
    "    print(\"\\n🔧 Conda env:\", os.getenv('CONDA_DEFAULT_ENV', '(none)'))\n",
    "    important_vars = ['CUDA_HOME', 'CUDA_PATH', 'LD_LIBRARY_PATH', 'HF_HOME', 'HF_DATASETS_CACHE']\n",
    "    print(\"\\n🌐 Environment variables:\")\n",
    "    for var in important_vars:\n",
    "        print(f\"   - {var:<15} = {os.getenv(var, '')}\")\n",
    "\n",
    "    print(\"\\n✨ All set! Keep growing and training with confidence! ✨\\n\")\n",
    "\n",
    "print_env_info()"
   ]
  },
  {
   "cell_type": "markdown",
   "id": "59b55bd6-f2d7-4ef8-b42f-831536c08d38",
   "metadata": {},
   "source": [
    "# Chat Fetcher"
   ]
  },
  {
   "cell_type": "code",
   "execution_count": 4,
   "id": "ce5edbf00f9cdf38",
   "metadata": {
    "ExecuteTime": {
     "end_time": "2025-05-30T16:03:50.834779Z",
     "start_time": "2025-05-30T16:03:50.814129Z"
    }
   },
   "outputs": [],
   "source": [
    "class Chat(SQLModel, table=True):\n",
    "    __table_args__ = {\"extend_existing\": True}\n",
    "\n",
    "    id: Optional[int] = Field(default=None, primary_key=True)\n",
    "    created_at: datetime = Field(default_factory=datetime.utcnow)\n",
    "    use_vllm: bool = Field(default=False)\n",
    "    vllm_endpoint: Optional[str] = Field(default=None)\n",
    "\n",
    "\n",
    "class ChatRole(str, Enum):\n",
    "    system = \"system\"\n",
    "    user = \"user\"\n",
    "    assistant = \"assistant\"\n",
    "\n",
    "\n",
    "class Message(SQLModel, table=True):\n",
    "    __table_args__ = {\"extend_existing\": True}\n",
    "\n",
    "    id: Optional[int] = Field(default=None, primary_key=True)\n",
    "    chat_id: int = Field(foreign_key=\"chat.id\")\n",
    "    role: ChatRole = Field(description=\"Which chat role\")\n",
    "    content: List[str] = Field(default_factory=list, sa_column=Column(JSON))\n",
    "    timestamp: datetime = Field(default_factory=datetime.utcnow)\n",
    "\n",
    "\n",
    "class ChatFetcher:\n",
    "    def __init__(self, db_url: str = \"sqlite:///./chats.db\") -> None:\n",
    "        \"\"\"\n",
    "        Initialize connection to the SQLite database.\n",
    "        \"\"\"\n",
    "        self.engine = create_engine(db_url, echo=False)\n",
    "        SQLModel.metadata.create_all(self.engine)\n",
    "\n",
    "    def fetch_all_history(self) -> List[Dict[str, Any]]:\n",
    "        \"\"\"\n",
    "        Fetch for each chat:\n",
    "          - chat_id: int\n",
    "          - context: List[str]\n",
    "          - question: str\n",
    "          - answer: str\n",
    "        Returns a list of dicts with those keys.\n",
    "        \"\"\"\n",
    "        with Session(self.engine) as session:\n",
    "            # The first message of each role by timestamp (ignoring subsequent messages in the chat)\n",
    "            context_subq = (\n",
    "                select(Message.content)\n",
    "                .where(\n",
    "                    Message.chat_id == Chat.id,\n",
    "                    Message.role == ChatRole.system\n",
    "                )\n",
    "                .order_by(Message.timestamp)\n",
    "                .limit(1)\n",
    "                .scalar_subquery()\n",
    "            )\n",
    "            question_subq = (\n",
    "                select(Message.content)\n",
    "                .where(\n",
    "                    Message.chat_id == Chat.id,\n",
    "                    Message.role == ChatRole.user\n",
    "                )\n",
    "                .order_by(Message.timestamp)\n",
    "                .limit(1)\n",
    "                .scalar_subquery()\n",
    "            )\n",
    "            answer_subq = (\n",
    "                select(Message.content)\n",
    "                .where(\n",
    "                    Message.chat_id == Chat.id,\n",
    "                    Message.role == ChatRole.assistant\n",
    "                )\n",
    "                .order_by(Message.timestamp)\n",
    "                .limit(1)\n",
    "                .scalar_subquery()\n",
    "            )\n",
    "\n",
    "            stmt = (\n",
    "                select(\n",
    "                    Chat.id.label(\"chat_id\"),\n",
    "                    context_subq.label(\"context\"),\n",
    "                    question_subq.label(\"question\"),\n",
    "                    answer_subq.label(\"answer\"),\n",
    "                )\n",
    "            )\n",
    "\n",
    "            rows = session.exec(stmt).all()\n",
    "\n",
    "        results: List[Dict[str, Any]] = []\n",
    "        for chat_id, context, question, answer in rows:\n",
    "            # context comes through as List[str] or None\n",
    "            ctx: List[str] = context or []\n",
    "            # question & answer are lists of strings; join into single string\n",
    "            q_str = \"\\n\".join(question) if question else \"\"\n",
    "            a_str = \"\\n\".join(answer) if answer else \"\"\n",
    "            results.append({\n",
    "                \"chat_id\": chat_id,\n",
    "                \"context\": ctx,\n",
    "                \"question\": q_str,\n",
    "                \"answer\": a_str,\n",
    "            })\n",
    "\n",
    "        return results"
   ]
  },
  {
   "cell_type": "code",
   "execution_count": 5,
   "id": "8ccbb784392b13ed",
   "metadata": {
    "ExecuteTime": {
     "end_time": "2025-05-30T15:57:02.919598Z",
     "start_time": "2025-05-30T15:57:02.909603Z"
    }
   },
   "outputs": [
    {
     "data": {
      "text/plain": [
       "4"
      ]
     },
     "execution_count": 5,
     "metadata": {},
     "output_type": "execute_result"
    }
   ],
   "source": [
    "chat_fetcher = ChatFetcher()\n",
    "chat_history = chat_fetcher.fetch_all_history()\n",
    "len(chat_history)"
   ]
  },
  {
   "cell_type": "code",
   "execution_count": 6,
   "id": "cabec16ea81327d2",
   "metadata": {
    "ExecuteTime": {
     "end_time": "2025-05-30T15:57:02.966009Z",
     "start_time": "2025-05-30T15:57:02.962137Z"
    }
   },
   "outputs": [
    {
     "data": {
      "text/plain": [
       "dict_keys(['chat_id', 'context', 'question', 'answer'])"
      ]
     },
     "execution_count": 6,
     "metadata": {},
     "output_type": "execute_result"
    }
   ],
   "source": [
    "chat_history[0].keys()"
   ]
  },
  {
   "cell_type": "code",
   "execution_count": 7,
   "id": "fbd949f7346c3fc8",
   "metadata": {
    "ExecuteTime": {
     "end_time": "2025-05-30T15:57:03.057297Z",
     "start_time": "2025-05-30T15:57:03.054187Z"
    }
   },
   "outputs": [
    {
     "name": "stdout",
     "output_type": "stream",
     "text": [
      "Chat ID: 1\n",
      "Question: I just moved in to my new apartment 3 months ago and now my landlord has increased the rent. Is that legal in Ontario?\n",
      "Context len: 3\n",
      "Answer: In Ontario, landlords can only increase the rent once a year by the guideline set by the Minister of Municipal Affairs and Housing. They must provide tenants with at least 90 days notice in writing of any rent increase. Since you have only been in the apartment for 3 months, it is not legal for the landlord to increase the rent at this time. You have the right to refuse the rent increase and if the landlord insists, you can contact the Landlord and Tenant Board for assistance.\n",
      "\n",
      "\n",
      "##################################################\n",
      "\n",
      "\n",
      "Chat ID: 2\n",
      "Question: My landlord just notified me that my rent will increase effective next month. Do I have to pay him extra coming next month?\n",
      "Context len: 3\n",
      "Answer: Yes, if your landlord has given you proper notice of a rent increase, you will be required to pay the increased amount starting from the effective date mentioned in the notice. Make sure to review the notice to confirm the amount of the increase and the date it goes into effect.\n",
      "\n",
      "\n",
      "##################################################\n",
      "\n",
      "\n",
      "Chat ID: 3\n",
      "Question: My landlord entered my unit earlier today when I was not at work for without previous notice. He mentioned that there was a water leak in the kitchen. Is that legal?\n",
      "Context len: 3\n",
      "Answer: In the situation you described, where there was a water leak in the kitchen, it could be considered an emergency situation which would allow the landlord to enter the unit without prior notice. Emergencies such as a fire or a water leak that could cause significant damage or harm would generally allow a landlord to enter a rental unit without giving prior notice to the tenant. However, it is important for landlords to still respect the tenant's privacy and rights to the extent possible in such situations.\n",
      "\n",
      "If you have concerns about the entry or if you believe it was not a true emergency, you may want to review your lease agreement and the landlord-tenant laws in your jurisdiction to understand your rights and options in this situation. If you have further questions or need assistance, it may be helpful to consult with a local tenant rights organization or legal professional.\n",
      "\n",
      "\n",
      "##################################################\n",
      "\n",
      "\n",
      "Chat ID: 4\n",
      "Question: I pay rent to my landlord every week. What is my notice period if I want to vacate the unit?\n",
      "Context len: 3\n",
      "Answer: If you pay rent on a weekly basis, you must give your landlord at least 28 days' notice to vacate the unit. The termination date must be at the end of a weekly rental period.\n",
      "\n",
      "\n",
      "##################################################\n",
      "\n",
      "\n"
     ]
    }
   ],
   "source": [
    "for ch in chat_history:\n",
    "    print(f'Chat ID: {ch[\"chat_id\"]}')\n",
    "    print(f'Question: {ch[\"question\"]}')\n",
    "    print(f'Context len: {len(ch[\"context\"])}')\n",
    "    print(f'Answer: {ch[\"answer\"]}')\n",
    "    print('\\n')\n",
    "    print('#' * 50)\n",
    "    print('\\n')"
   ]
  },
  {
   "cell_type": "markdown",
   "id": "52f6189e-e82a-4bb5-a4a6-2b4a0a0a4ea5",
   "metadata": {},
   "source": [
    "## Add Ground Truth (Used for Ragas Evaluation)"
   ]
  },
  {
   "cell_type": "code",
   "execution_count": 8,
   "id": "12038ccd963d309",
   "metadata": {
    "ExecuteTime": {
     "end_time": "2025-05-30T15:57:03.217014Z",
     "start_time": "2025-05-30T15:57:03.211975Z"
    }
   },
   "outputs": [],
   "source": [
    "chat_history[0][\n",
    "    'ground_truth'] = \"In Ontario, landlords must wait at least 12 months after a tenant moves in before increasing the rent. They are also required to provide a minimum of 90 days' written notice before the increase takes effect. Therefore, raising your rent just three months after moving in is not legal.\"\n",
    "chat_history[1][\n",
    "    'ground_truth'] = \"No, you are not required to pay the increased rent next month. In Ontario, landlords must provide at least 90 days' written notice using the proper form (Form N1) before a rent increase can take effect . If your landlord did not provide this notice at least 90 days in advance, the rent increase is not legally enforceable for next month.\"\n",
    "chat_history[2][\n",
    "    'ground_truth'] = \"Yes, in Ontario, a landlord may legally enter a rental unit without prior notice in cases of emergency, such as a water leak, to prevent damage or address safety concerns. However, the entry should be limited to resolving the emergency, and the landlord should inform the tenant as soon as possible afterward .\"\n",
    "chat_history[3][\n",
    "    'ground_truth'] = \"In Ontario, if you pay rent weekly and are not in a fixed-term lease, you must give your landlord at least 28 days' written notice before moving out. The termination date must be the last day of your rental week—for example, if you pay rent every Monday, your termination date should be a Sunday.\""
   ]
  },
  {
   "cell_type": "markdown",
   "id": "0f14dff5-535a-4b04-a831-922832e1cf48",
   "metadata": {},
   "source": [
    "# Ragas Evaluator"
   ]
  },
  {
   "cell_type": "code",
   "execution_count": 9,
   "id": "157173ac685e1c51",
   "metadata": {
    "ExecuteTime": {
     "end_time": "2025-05-30T16:04:25.358575Z",
     "start_time": "2025-05-30T16:04:25.346617Z"
    }
   },
   "outputs": [],
   "source": [
    "class RAGEval(SQLModel, table=True):\n",
    "    __table_args__ = {\"extend_existing\": True}\n",
    "\n",
    "    chat_id: str = Field(primary_key=True, description=\"Chat ID for this dialogue turn\")\n",
    "    context_precision_llm_with_ref: float\n",
    "    context_precision_non_llm_with_ref: Optional[float] = None\n",
    "    context_recall_llm: float\n",
    "    context_recall_non_llm: Optional[float] = None\n",
    "    context_entity_recall: float\n",
    "    response_relevancy: float\n",
    "    faithfulness: float\n",
    "    faithfulness_hhem: float\n",
    "    semantic_similarity: float\n",
    "\n",
    "\n",
    "class RAGEvaluator:\n",
    "    def __init__(\n",
    "        self,\n",
    "        llm: Any,\n",
    "        embeddings: Any,\n",
    "        db_url: str = \"sqlite:///ragas_eval.db\",\n",
    "    ):\n",
    "        \"\"\"\n",
    "        llm: a BaseRagasLLM instance for all LLM-based metrics\n",
    "        embeddings: a BaseRagasEmbeddings instance for relevancy & similarity\n",
    "        db_url: SQLModel-compatible URL to a local sqlite file\n",
    "        \"\"\"\n",
    "        self.llm = llm\n",
    "        self.embeddings = embeddings\n",
    "\n",
    "        # Set up the SQLite database\n",
    "        self.engine = create_engine(db_url, echo=False)\n",
    "        SQLModel.metadata.create_all(self.engine)\n",
    "\n",
    "        # Instantiate all the requested metrics\n",
    "        self.metrics = {\n",
    "            # Context Precision\n",
    "            \"context_precision_llm_with_ref\": LLMContextPrecisionWithReference(llm=self.llm),\n",
    "            \"context_precision_non_llm_with_ref\": NonLLMContextPrecisionWithReference(),\n",
    "            # Context Recall\n",
    "            \"context_recall_llm\": LLMContextRecall(llm=self.llm),\n",
    "            \"context_recall_non_llm\": NonLLMContextRecall(),\n",
    "            # Context Entities Recall\n",
    "            \"context_entity_recall\": ContextEntityRecall(llm=self.llm),\n",
    "            # Response Relevancy\n",
    "            \"response_relevancy\": ResponseRelevancy(llm=self.llm, embeddings=self.embeddings),\n",
    "            # Faithfulness\n",
    "            \"faithfulness\": Faithfulness(llm=self.llm),\n",
    "            \"faithfulness_hhem\": FaithfulnesswithHHEM(llm=self.llm),\n",
    "            # Semantic Similarity\n",
    "            \"semantic_similarity\": SemanticSimilarity(embeddings=self.embeddings),\n",
    "        }\n",
    "\n",
    "    async def evaluate(self, data: List[Dict[str, Any]]) -> List[RAGEval]:\n",
    "        \"\"\"\n",
    "        Given rag_eval_data, computes all metrics for each record\n",
    "        and persists the results into the local SQLite database.\n",
    "        Returns the list of RAGEval objects.\n",
    "        \"\"\"\n",
    "        results: List[RAGEval] = []\n",
    "        # Note: SQLModel sessions are synchronous; metrics calls are async\n",
    "        session = Session(self.engine)\n",
    "\n",
    "        for item in tqdm(data):\n",
    "            # Build the generic sample\n",
    "            sample = SingleTurnSample(\n",
    "                user_input=item[\"question\"],\n",
    "                response=item[\"answer\"],\n",
    "                reference=item[\"ground_truth\"],\n",
    "                retrieved_contexts=item[\"context\"],\n",
    "            )\n",
    "\n",
    "            print('LLM-based context precision with reference')\n",
    "            # 1. LLM-based context precision with reference\n",
    "            cp_llm = await self.metrics[\"context_precision_llm_with_ref\"].single_turn_ascore(sample)\n",
    "\n",
    "            print('Non-LLM context precision: needs reference_contexts => skip if missing')\n",
    "            # 2. Non-LLM context precision: needs reference_contexts => skip if missing\n",
    "            cp_non_llm = None\n",
    "            if rc := item.get(\"reference_context\"):\n",
    "                sample_refctx = SingleTurnSample(\n",
    "                    retrieved_contexts=item[\"context\"],\n",
    "                    reference_contexts=rc\n",
    "                )\n",
    "                cp_non_llm = await self.metrics[\"context_precision_non_llm_with_ref\"].single_turn_ascore(sample_refctx)\n",
    "\n",
    "            print('LLM-based context recall')\n",
    "            # 3. LLM-based context recall\n",
    "            cr_llm = await self.metrics[\"context_recall_llm\"].single_turn_ascore(sample)\n",
    "\n",
    "            print('Non-LLM context recall')\n",
    "            # 4. Non-LLM context recall\n",
    "            cr_non_llm = None\n",
    "            if rc:\n",
    "                sample_refctx = SingleTurnSample(\n",
    "                    retrieved_contexts=item[\"context\"],\n",
    "                    reference_contexts=rc\n",
    "                )\n",
    "                cr_non_llm = await self.metrics[\"context_recall_non_llm\"].single_turn_ascore(sample_refctx)\n",
    "\n",
    "            print('Context entity recall')\n",
    "            # 5. Context entity recall\n",
    "            cer = await self.metrics[\"context_entity_recall\"].single_turn_ascore(sample)\n",
    "\n",
    "            print('Response relevancy')\n",
    "            # 6. Response relevancy\n",
    "            rr = await self.metrics[\"response_relevancy\"].single_turn_ascore(sample)\n",
    "\n",
    "            print('Faithfulness')\n",
    "            # 7. Faithfulness\n",
    "            fth = await self.metrics[\"faithfulness\"].single_turn_ascore(sample)\n",
    "\n",
    "            print('Faithfulness with HHEM')\n",
    "            # 8. Faithfulness with HHEM\n",
    "            fth_hhem = await self.metrics[\"faithfulness_hhem\"].single_turn_ascore(sample)\n",
    "\n",
    "            print('Semantic similarity')\n",
    "            # 9. Semantic similarity\n",
    "            semsim = await self.metrics[\"semantic_similarity\"].single_turn_ascore(SingleTurnSample(\n",
    "                    response=item[\"answer\"],\n",
    "                    reference=item[\"ground_truth\"],\n",
    "                ))\n",
    "\n",
    "            print('Saving evaluation results')\n",
    "            # Create and persist the record\n",
    "            record = RAGEval(\n",
    "                chat_id=item[\"chat_id\"],\n",
    "                context_precision_llm_with_ref=cp_llm,\n",
    "                context_precision_non_llm_with_ref=cp_non_llm,\n",
    "                context_recall_llm=cr_llm,\n",
    "                context_recall_non_llm=cr_non_llm,\n",
    "                context_entity_recall=cer,\n",
    "                response_relevancy=rr,\n",
    "                faithfulness=fth,\n",
    "                faithfulness_hhem=fth_hhem,\n",
    "                semantic_similarity=semsim,\n",
    "            )\n",
    "            session.add(record)\n",
    "            results.append(record)\n",
    "\n",
    "        session.commit()\n",
    "        session.close()\n",
    "        return results\n",
    "\n",
    "    def fetch_all(self) -> List[RAGEval]:\n",
    "        \"\"\"\n",
    "        Retrieve all persisted RAGEval records for later analysis.\n",
    "        \"\"\"\n",
    "        with Session(self.engine) as session:\n",
    "            return session.exec(select(RAGEval)).all()"
   ]
  },
  {
   "cell_type": "code",
   "execution_count": 10,
   "id": "8715351c8daae5e6",
   "metadata": {
    "ExecuteTime": {
     "end_time": "2025-05-30T16:04:31.892108Z",
     "start_time": "2025-05-30T16:04:29.774452Z"
    }
   },
   "outputs": [
    {
     "name": "stderr",
     "output_type": "stream",
     "text": [
      "You are using a model of type HHEMv2Config to instantiate a model of type HHEMv2. This is not supported for all configurations of models and can yield errors.\n"
     ]
    }
   ],
   "source": [
    "api_key = \"INSERT-YOUR-OPENAI-TOKEN-HERE\"\n",
    "\n",
    "evaluator_llm = LangchainLLMWrapper(ChatOpenAI(model=\"gpt-3.5-turbo\", api_key=api_key))\n",
    "evaluator_embeddings = LangchainEmbeddingsWrapper(OpenAIEmbeddings(api_key=api_key))\n",
    "\n",
    "evaluator = RAGEvaluator(llm=evaluator_llm, embeddings=evaluator_embeddings)"
   ]
  },
  {
   "cell_type": "code",
   "execution_count": 11,
   "id": "68d809377f84201d",
   "metadata": {
    "ExecuteTime": {
     "end_time": "2025-05-30T15:57:07.041217Z",
     "start_time": "2025-05-30T15:57:07.039188Z"
    }
   },
   "outputs": [],
   "source": [
    "async def run_ragas_evaluation(evaluator, chat_history):\n",
    "    print(\"Running RAG evaluation…\")\n",
    "    results = await evaluator.evaluate(chat_history)\n",
    "\n",
    "    for r in results:\n",
    "        print(f\"Chat ID: {r.chat_id}\")\n",
    "        print(f\"  Context Precision (LLM):        {r.context_precision_llm_with_ref:.3f}\")\n",
    "        print(f\"  Context Recall (LLM):           {r.context_recall_llm:.3f}\")\n",
    "        print(f\"  Context Entity Recall:          {r.context_entity_recall:.3f}\")\n",
    "        print(f\"  Response Relevancy:             {r.response_relevancy:.3f}\")\n",
    "        print(f\"  Faithfulness:                   {r.faithfulness:.3f}\")\n",
    "        print(f\"  Faithfulness (HHEM):            {r.faithfulness_hhem:.3f}\")\n",
    "        print(f\"  Semantic Similarity:            {r.semantic_similarity:.3f}\")\n",
    "        print()\n"
   ]
  },
  {
   "cell_type": "code",
   "execution_count": null,
   "id": "a2194bd35d1b3a82",
   "metadata": {},
   "outputs": [],
   "source": [
    "asyncio.run(run_ragas_evaluation(evaluator, chat_history))"
   ]
  },
  {
   "cell_type": "markdown",
   "id": "08456a65-8447-4ddb-ac0e-dfb3f146aa25",
   "metadata": {},
   "source": [
    "## Load Saved Evaluations"
   ]
  },
  {
   "cell_type": "code",
   "execution_count": 13,
   "id": "c928f2dc2e47e143",
   "metadata": {
    "ExecuteTime": {
     "end_time": "2025-05-30T16:04:47.512680Z",
     "start_time": "2025-05-30T16:04:47.506836Z"
    }
   },
   "outputs": [
    {
     "name": "stdout",
     "output_type": "stream",
     "text": [
      "Total stored evaluations: 4\n",
      "\n",
      "{'context_precision_llm_with_ref': 0.9999999999666667, 'context_precision_non_llm_with_ref': None, 'context_recall_llm': 1.0, 'context_recall_non_llm': None, 'response_relevancy': 0.9074071555613951, 'faithfulness_hhem': 0.4, 'chat_id': '1', 'context_entity_recall': 0.2857142853061225, 'faithfulness': 0.4, 'semantic_similarity': 0.9464582351689101}\n",
      "{'context_precision_llm_with_ref': 0.9999999999666667, 'context_precision_non_llm_with_ref': None, 'context_recall_llm': 1.0, 'context_recall_non_llm': None, 'response_relevancy': 0.8988886016560403, 'faithfulness_hhem': 0.0, 'chat_id': '2', 'context_entity_recall': 0.249999999375, 'faithfulness': 1.0, 'semantic_similarity': 0.908410261485283}\n",
      "{'context_precision_llm_with_ref': 0.9999999999666667, 'context_precision_non_llm_with_ref': None, 'context_recall_llm': 0.5, 'context_recall_non_llm': None, 'response_relevancy': 0.8852542085183321, 'faithfulness_hhem': 0.3333333333333333, 'chat_id': '3', 'context_entity_recall': 0.3333333330555555, 'faithfulness': 0.5, 'semantic_similarity': 0.950319966005886}\n",
      "{'context_precision_llm_with_ref': 0.9999999999666667, 'context_precision_non_llm_with_ref': None, 'context_recall_llm': 1.0, 'context_recall_non_llm': None, 'response_relevancy': 0.9150853881875302, 'faithfulness_hhem': 0.5, 'chat_id': '4', 'context_entity_recall': 0.249999999375, 'faithfulness': 1.0, 'semantic_similarity': 0.9522375240308512}\n"
     ]
    }
   ],
   "source": [
    "all_records = evaluator.fetch_all()\n",
    "print(f\"Total stored evaluations: {len(all_records)}\\n\")\n",
    "\n",
    "for rec in all_records:\n",
    "    print(rec.model_dump())"
   ]
  },
  {
   "cell_type": "markdown",
   "id": "be06953e-70e6-47ae-8b73-109a1f2c75c4",
   "metadata": {},
   "source": [
    "# Ragas Results Visualization"
   ]
  },
  {
   "cell_type": "code",
   "execution_count": 14,
   "id": "d1786440fe54fdb0",
   "metadata": {
    "ExecuteTime": {
     "end_time": "2025-05-30T16:17:21.745418Z",
     "start_time": "2025-05-30T16:17:21.735982Z"
    }
   },
   "outputs": [],
   "source": [
    "class VisualizeRagasResults:\n",
    "    \"\"\"\n",
    "    Generate and save visualizations for RAG evaluation metrics.\n",
    "    \"\"\"\n",
    "\n",
    "    def __init__(\n",
    "        self,\n",
    "        records: List[RAGEval],\n",
    "        output_dir: str = \"plots\",\n",
    "    ):\n",
    "        \"\"\"\n",
    "        :param records: List of RAGEval instances\n",
    "        :param output_dir: Directory where all plots will be saved.\n",
    "        \"\"\"\n",
    "        data = []\n",
    "        for r in records:\n",
    "            data.append(r.model_dump())\n",
    "            \n",
    "        self.df = pd.DataFrame(data)\n",
    "        \n",
    "        os.makedirs(output_dir, exist_ok=True)\n",
    "        self.output_dir = output_dir\n",
    "        \n",
    "        sns.set_theme(style=\"whitegrid\", palette=\"muted\")\n",
    "\n",
    "    def _save_and_show(self, fig: plt.Figure, filename: str):\n",
    "        \"\"\"\n",
    "        Helper to save a figure and then show it.\n",
    "        \"\"\"\n",
    "        path = os.path.join(self.output_dir, filename)\n",
    "        fig.savefig(path, bbox_inches=\"tight\")\n",
    "        plt.show()\n",
    "        plt.close(fig)\n",
    "\n",
    "    def plot_context_precision(self):\n",
    "        \"\"\"\n",
    "        Grouped bar chart for LLM vs Non-LLM Context Precision.\n",
    "        \"\"\"\n",
    "        df = self.df[[\n",
    "            \"chat_id\",\n",
    "            \"context_precision_llm_with_ref\",\n",
    "            \"context_precision_non_llm_with_ref\"\n",
    "        ]].melt(\n",
    "            id_vars=\"chat_id\",\n",
    "            var_name=\"method\",\n",
    "            value_name=\"precision\"\n",
    "        )\n",
    "        fig, ax = plt.subplots(figsize=(10, 6))\n",
    "        sns.barplot(\n",
    "            data=df,\n",
    "            x=\"chat_id\",\n",
    "            y=\"precision\",\n",
    "            hue=\"method\",\n",
    "            ax=ax\n",
    "        )\n",
    "        ax.set_title(\"Context Precision (LLM vs Non-LLM)\")\n",
    "        ax.set_xlabel(\"Chat ID\")\n",
    "        ax.set_ylabel(\"Precision\")\n",
    "        ax.legend(title=\"Method\", loc=\"upper right\")\n",
    "        ax.tick_params(axis=\"x\", rotation=45)\n",
    "        self._save_and_show(fig, \"context_precision.png\")\n",
    "\n",
    "    def plot_context_recall(self):\n",
    "        \"\"\"\n",
    "        Grouped bar chart for LLM vs Non-LLM Context Recall.\n",
    "        \"\"\"\n",
    "        df = self.df[[\n",
    "            \"chat_id\",\n",
    "            \"context_recall_llm\",\n",
    "            \"context_recall_non_llm\"\n",
    "        ]].melt(\n",
    "            id_vars=\"chat_id\",\n",
    "            var_name=\"method\",\n",
    "            value_name=\"recall\"\n",
    "        )\n",
    "        fig, ax = plt.subplots(figsize=(10, 6))\n",
    "        sns.barplot(\n",
    "            data=df,\n",
    "            x=\"chat_id\",\n",
    "            y=\"recall\",\n",
    "            hue=\"method\",\n",
    "            ax=ax\n",
    "        )\n",
    "        ax.set_title(\"Context Recall (LLM vs Non-LLM)\")\n",
    "        ax.set_xlabel(\"Chat ID\")\n",
    "        ax.set_ylabel(\"Recall\")\n",
    "        ax.legend(title=\"Method\", loc=\"upper right\")\n",
    "        ax.tick_params(axis=\"x\", rotation=45)\n",
    "        self._save_and_show(fig, \"context_recall.png\")\n",
    "\n",
    "    def plot_context_entity_recall(self):\n",
    "        \"\"\"\n",
    "        Bar chart for Context Entity Recall per chat.\n",
    "        \"\"\"\n",
    "        fig, ax = plt.subplots(figsize=(10, 6))\n",
    "        sns.barplot(\n",
    "            data=self.df,\n",
    "            x=\"chat_id\",\n",
    "            y=\"context_entity_recall\",\n",
    "            ax=ax\n",
    "        )\n",
    "        ax.set_title(\"Context Entity Recall\")\n",
    "        ax.set_xlabel(\"Chat ID\")\n",
    "        ax.set_ylabel(\"Entity Recall\")\n",
    "        ax.tick_params(axis=\"x\", rotation=45)\n",
    "        self._save_and_show(fig, \"context_entity_recall.png\")\n",
    "\n",
    "    def plot_response_relevancy(self):\n",
    "        \"\"\"\n",
    "        Bar chart for Response Relevancy per chat.\n",
    "        \"\"\"\n",
    "        fig, ax = plt.subplots(figsize=(10, 6))\n",
    "        sns.barplot(\n",
    "            data=self.df,\n",
    "            x=\"chat_id\",\n",
    "            y=\"response_relevancy\",\n",
    "            ax=ax\n",
    "        )\n",
    "        ax.set_title(\"Response Relevancy\")\n",
    "        ax.set_xlabel(\"Chat ID\")\n",
    "        ax.set_ylabel(\"Relevancy\")\n",
    "        ax.tick_params(axis=\"x\", rotation=45)\n",
    "        self._save_and_show(fig, \"response_relevancy.png\")\n",
    "\n",
    "    def plot_faithfulness(self):\n",
    "        \"\"\"\n",
    "        Grouped bar chart for Faithfulness vs Faithfulness with HHEM.\n",
    "        \"\"\"\n",
    "        df = self.df[[\n",
    "            \"chat_id\",\n",
    "            \"faithfulness\",\n",
    "            \"faithfulness_hhem\"\n",
    "        ]].melt(\n",
    "            id_vars=\"chat_id\",\n",
    "            var_name=\"method\",\n",
    "            value_name=\"score\"\n",
    "        )\n",
    "        fig, ax = plt.subplots(figsize=(10, 6))\n",
    "        sns.barplot(\n",
    "            data=df,\n",
    "            x=\"chat_id\",\n",
    "            y=\"score\",\n",
    "            hue=\"method\",\n",
    "            ax=ax\n",
    "        )\n",
    "        ax.set_title(\"Faithfulness Metrics\")\n",
    "        ax.set_xlabel(\"Chat ID\")\n",
    "        ax.set_ylabel(\"Score\")\n",
    "        ax.legend(title=\"Method\", loc=\"upper right\")\n",
    "        ax.tick_params(axis=\"x\", rotation=45)\n",
    "        self._save_and_show(fig, \"faithfulness.png\")\n",
    "\n",
    "    def plot_semantic_similarity(self):\n",
    "        \"\"\"\n",
    "        Bar chart for Semantic Similarity per chat.\n",
    "        \"\"\"\n",
    "        fig, ax = plt.subplots(figsize=(10, 6))\n",
    "        sns.barplot(\n",
    "            data=self.df,\n",
    "            x=\"chat_id\",\n",
    "            y=\"semantic_similarity\",\n",
    "            ax=ax\n",
    "        )\n",
    "        ax.set_title(\"Semantic Similarity\")\n",
    "        ax.set_xlabel(\"Chat ID\")\n",
    "        ax.set_ylabel(\"Similarity\")\n",
    "        ax.tick_params(axis=\"x\", rotation=45)\n",
    "        self._save_and_show(fig, \"semantic_similarity.png\")\n",
    "\n",
    "    def visualize_all(self):\n",
    "        \"\"\"\n",
    "        Generate and save all available metric visualizations.\n",
    "        \"\"\"\n",
    "        self.plot_context_precision()\n",
    "        self.plot_context_recall()\n",
    "        self.plot_context_entity_recall()\n",
    "        self.plot_response_relevancy()\n",
    "        self.plot_faithfulness()\n",
    "        self.plot_semantic_similarity()\n"
   ]
  },
  {
   "cell_type": "code",
   "execution_count": 15,
   "id": "a40631a14a9f2f18",
   "metadata": {
    "ExecuteTime": {
     "end_time": "2025-05-30T16:17:22.930025Z",
     "start_time": "2025-05-30T16:17:22.445396Z"
    }
   },
   "outputs": [
    {
     "data": {
      "image/png": "[encoded data removed]",
      "text/plain": [
       "<Figure size 1000x600 with 1 Axes>"
      ]
     },
     "metadata": {},
     "output_type": "display_data"
    },
    {
     "data": {
      "image/png": "[encoded data removed]",
      "text/plain": [
       "<Figure size 1000x600 with 1 Axes>"
      ]
     },
     "metadata": {},
     "output_type": "display_data"
    },
    {
     "data": {
      "image/png": "[encoded data removed]",
      "text/plain": [
       "<Figure size 1000x600 with 1 Axes>"
      ]
     },
     "metadata": {},
     "output_type": "display_data"
    },
    {
     "data": {
      "image/png": "[encoded data removed]",
      "text/plain": [
       "<Figure size 1000x600 with 1 Axes>"
      ]
     },
     "metadata": {},
     "output_type": "display_data"
    },
    {
     "data": {
      "image/png": "[encoded data removed]",
      "text/plain": [
       "<Figure size 1000x600 with 1 Axes>"
      ]
     },
     "metadata": {},
     "output_type": "display_data"
    },
    {
     "data": {
      "image/png": "[encoded data removed]",
      "text/plain": [
       "<Figure size 1000x600 with 1 Axes>"
      ]
     },
     "metadata": {},
     "output_type": "display_data"
    }
   ],
   "source": [
    "viz = VisualizeRagasResults(all_records, output_dir=\"ragas_evaluation_plots\")\n",
    "viz.visualize_all()"
   ]
  },
  {
   "cell_type": "code",
   "execution_count": null,
   "id": "c31de1bcf99c1729",
   "metadata": {},
   "outputs": [],
   "source": []
  }
 ],
 "metadata": {
  "kernelspec": {
   "display_name": "Python 3 (ipykernel)",
   "language": "python",
   "name": "python3"
  },
  "language_info": {
   "codemirror_mode": {
    "name": "ipython",
    "version": 3
   },
   "file_extension": ".py",
   "mimetype": "text/x-python",
   "name": "python",
   "nbconvert_exporter": "python",
   "pygments_lexer": "ipython3",
   "version": "3.12.7"
  }
 },
 "nbformat": 4,
 "nbformat_minor": 5
}
